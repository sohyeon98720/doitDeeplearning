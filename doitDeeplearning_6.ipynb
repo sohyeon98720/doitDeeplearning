{
  "nbformat": 4,
  "nbformat_minor": 0,
  "metadata": {
    "colab": {
      "name": "doitDeeplearning_6.ipynb",
      "provenance": [],
      "collapsed_sections": [],
      "authorship_tag": "ABX9TyMsGwRzVEFbQT9S8krZZ44X",
      "include_colab_link": true
    },
    "kernelspec": {
      "name": "python3",
      "display_name": "Python 3"
    }
  },
  "cells": [
    {
      "cell_type": "markdown",
      "metadata": {
        "id": "view-in-github",
        "colab_type": "text"
      },
      "source": [
        "<a href=\"https://colab.research.google.com/github/sohyeon98720/doitDeeplearning/blob/master/doitDeeplearning_6.ipynb\" target=\"_parent\"><img src=\"https://colab.research.google.com/assets/colab-badge.svg\" alt=\"Open In Colab\"/></a>"
      ]
    },
    {
      "cell_type": "code",
      "metadata": {
        "id": "3qJAQWGHFHEC",
        "colab_type": "code",
        "colab": {
          "base_uri": "https://localhost:8080/",
          "height": 54
        },
        "outputId": "35b41c22-f54a-42d5-8834-d3f235851640"
      },
      "source": [
        "# 6강\n",
        "# 다층신경망을 구현하기에 앞서 벡터의 개념과 np.sum -> np.dot의 개념 설명\n",
        "import numpy as np\n",
        " \n",
        "x = np.array([[1, 2],[3, 4]])\n",
        "y = np.array([[5, 6],[7, 8]])\n",
        " \n",
        "result = np.dot(x, y)\n",
        "print(result)"
      ],
      "execution_count": 1,
      "outputs": [
        {
          "output_type": "stream",
          "text": [
            "[[19 22]\n",
            " [43 50]]\n"
          ],
          "name": "stdout"
        }
      ]
    },
    {
      "cell_type": "code",
      "metadata": {
        "id": "cnFqkulRFt_4",
        "colab_type": "code",
        "colab": {}
      },
      "source": [
        "import numpy as np\n",
        "import matplotlib.pyplot as plt"
      ],
      "execution_count": 0,
      "outputs": []
    },
    {
      "cell_type": "code",
      "metadata": {
        "id": "ohwNVmi0GOzv",
        "colab_type": "code",
        "colab": {}
      },
      "source": [
        "# 4,5강과 같은 데이터셋 사용\n",
        "from sklearn.datasets import load_breast_cancer\n",
        "from sklearn.model_selection import train_test_split\n",
        "\n",
        "cancer=load_breast_cancer()\n",
        "x=cancer.data\n",
        "y=cancer.target"
      ],
      "execution_count": 0,
      "outputs": []
    },
    {
      "cell_type": "code",
      "metadata": {
        "id": "dh934ObLGRu_",
        "colab_type": "code",
        "colab": {
          "base_uri": "https://localhost:8080/",
          "height": 54
        },
        "outputId": "150d7ae7-7303-49fb-a80f-f138b816ea8e"
      },
      "source": [
        "print(x.shape)\n",
        "print(y.shape)"
      ],
      "execution_count": 4,
      "outputs": [
        {
          "output_type": "stream",
          "text": [
            "(569, 30)\n",
            "(569,)\n"
          ],
          "name": "stdout"
        }
      ]
    },
    {
      "cell_type": "code",
      "metadata": {
        "id": "x1PXn7OEGSxo",
        "colab_type": "code",
        "colab": {}
      },
      "source": [
        "x_train_all,x_test,y_train_all,y_test=train_test_split(x,y,stratify=y,test_size=0.2,random_state=42)"
      ],
      "execution_count": 0,
      "outputs": []
    },
    {
      "cell_type": "code",
      "metadata": {
        "id": "j3I6fLVsGUGz",
        "colab_type": "code",
        "colab": {
          "base_uri": "https://localhost:8080/",
          "height": 54
        },
        "outputId": "cb507301-9a16-45de-a57e-40c28798fcb3"
      },
      "source": [
        "print(x_train_all.shape)\n",
        "print(y_train_all.shape)"
      ],
      "execution_count": 6,
      "outputs": [
        {
          "output_type": "stream",
          "text": [
            "(455, 30)\n",
            "(455,)\n"
          ],
          "name": "stdout"
        }
      ]
    },
    {
      "cell_type": "code",
      "metadata": {
        "id": "N-jiQTLiGVDh",
        "colab_type": "code",
        "colab": {}
      },
      "source": [
        "x_train,x_val,y_train,y_val=train_test_split(x_train_all,y_train_all,stratify=y_train_all,test_size=0.2,random_state=42)"
      ],
      "execution_count": 0,
      "outputs": []
    },
    {
      "cell_type": "code",
      "metadata": {
        "id": "RWTC1MErGWOH",
        "colab_type": "code",
        "colab": {
          "base_uri": "https://localhost:8080/",
          "height": 54
        },
        "outputId": "2ed45926-f08b-4f91-f63b-e36287f0db6d"
      },
      "source": [
        "print(x_train.shape)\n",
        "print(y_train.shape)"
      ],
      "execution_count": 8,
      "outputs": [
        {
          "output_type": "stream",
          "text": [
            "(364, 30)\n",
            "(364,)\n"
          ],
          "name": "stdout"
        }
      ]
    },
    {
      "cell_type": "code",
      "metadata": {
        "id": "aHFrJ75mGXNg",
        "colab_type": "code",
        "colab": {
          "base_uri": "https://localhost:8080/",
          "height": 35
        },
        "outputId": "0f787501-83cf-47ad-ed8f-5730455ee3ec"
      },
      "source": [
        "print(x_train.shape,x_val.shape)"
      ],
      "execution_count": 9,
      "outputs": [
        {
          "output_type": "stream",
          "text": [
            "(364, 30) (91, 30)\n"
          ],
          "name": "stdout"
        }
      ]
    },
    {
      "cell_type": "code",
      "metadata": {
        "id": "OEeS-80uGYcD",
        "colab_type": "code",
        "colab": {}
      },
      "source": [
        "# 벡터화연산을 적용한 뒤의 신경망모델. fit함수 주목.\n",
        "class singleLayer_new:\n",
        "\n",
        "  def __init__(self,learning_rate=0.1,l1=0,l2=0):\n",
        "    self.w=None\n",
        "    self.b=None\n",
        "    self.losses=[]\n",
        "    self.val_losses=[]\n",
        "    self.w_history=[]\n",
        "    self.lr=learning_rate\n",
        "    self.l1=l1\n",
        "    self.l2=l2\n",
        "\n",
        "  def forpass(self,x):\n",
        "    z=np.dot(x,self.w)+self.b\n",
        "    return z\n",
        "\n",
        "  def backprop(self,x,err):\n",
        "    m=len(x)\n",
        "    w_grad=np.dot(x.T,err)/m\n",
        "    b_grad=np.sum(err)/m\n",
        "    return w_grad,b_grad\n",
        "\n",
        "  def activation(self,z):\n",
        "    a=1/(1+np.exp(-z))\n",
        "    return a\n",
        "\n",
        "  def reg_loss(self):\n",
        "    return self.l1 * np.sum(np.abs(self.w))+self.l2/2*np.sum(self.w**2)\n",
        "\n",
        "  def update_val_loss(self,x_val,y_val):\n",
        "    z=self.forpass(x_val)\n",
        "    a=self.activation(z)\n",
        "    a=np.clip(a,1e-10,1-1e-10)\n",
        "    val_loss=np.sum(-(y_val*np.log(a)+(1-y_val)*np.log(1-a)))\n",
        "    self.val_losses.append((val_loss+self.reg_loss())/len(y_val))\n",
        "\n",
        "  def fit(self,x,y,epochs=100,x_val=None,y_val=None):\n",
        "    y=y.reshape(-1,1)\n",
        "    y_val=y_val.reshape(-1,1)\n",
        "    m=len(x)\n",
        "    self.w=np.ones((x.shape[1],1))\n",
        "    self.b=0\n",
        "    self.w_history.append(self.w.copy())\n",
        "    for i in range(epochs):\n",
        "        z=self.forpass(x)\n",
        "        a=self.activation(z)\n",
        "        err=-(y-a)\n",
        "        w_grad,b_grad=self.backprop(x,err)\n",
        "        w_grad+=(self.l1 * np.sign(self.w) + self.l2 * self.w)/m\n",
        "        self.w-=self.lr*w_grad\n",
        "        self.b-=b_grad\n",
        "        self.w_history.append(self.w.copy())\n",
        "        a=np.clip(a,1e-10,1-1e-10)\n",
        "        loss=np.sum(-(y*np.log(a)+(1-y)*np.log(1-a)))\n",
        "        self.losses.append((loss+self.reg_loss())/m)\n",
        "        self.update_val_loss(x_val,y_val)\n",
        "\n",
        "  def predict(self,x):\n",
        "    z=self.forpass(x)\n",
        "    return z>0\n",
        "\n",
        "  def score(self,x,y):\n",
        "    return np.mean(self.predict(x)==y.reshape(-1,1))"
      ],
      "execution_count": 0,
      "outputs": []
    },
    {
      "cell_type": "code",
      "metadata": {
        "id": "DO_wqrr7GzSb",
        "colab_type": "code",
        "colab": {
          "base_uri": "https://localhost:8080/",
          "height": 35
        },
        "outputId": "73cdcc44-bcf3-4570-e504-184349043893"
      },
      "source": [
        "print (y.shape)"
      ],
      "execution_count": 11,
      "outputs": [
        {
          "output_type": "stream",
          "text": [
            "(569,)\n"
          ],
          "name": "stdout"
        }
      ]
    },
    {
      "cell_type": "code",
      "metadata": {
        "id": "82pY5_YRG1lu",
        "colab_type": "code",
        "colab": {
          "base_uri": "https://localhost:8080/",
          "height": 35
        },
        "outputId": "5d69660e-ba20-4abf-fe06-734e4a7a7da2"
      },
      "source": [
        "y22=y.reshape(-1,1)\n",
        "print(y22.shape)"
      ],
      "execution_count": 12,
      "outputs": [
        {
          "output_type": "stream",
          "text": [
            "(569, 1)\n"
          ],
          "name": "stdout"
        }
      ]
    },
    {
      "cell_type": "code",
      "metadata": {
        "id": "i9N-UExUG2kP",
        "colab_type": "code",
        "colab": {}
      },
      "source": [
        "# 5강 boxplot그래프에서 보았듯이 데이터의 범위가 다른데\n",
        "# 이를 StandardScaler 모듈을 이용해 쉽게 전처리를 수행함.\n",
        "import numpy as np\n",
        "import matplotlib.pyplot as plt\n",
        "from sklearn.preprocessing import StandardScaler\n",
        "\n",
        "scaler=StandardScaler()\n",
        "scaler.fit(x_train)\n",
        "x_train_scaled=scaler.transform(x_train)\n",
        "x_val_scaled=scaler.transform(x_val)"
      ],
      "execution_count": 0,
      "outputs": []
    },
    {
      "cell_type": "code",
      "metadata": {
        "id": "NSaOqN_5G3nF",
        "colab_type": "code",
        "colab": {
          "base_uri": "https://localhost:8080/",
          "height": 35
        },
        "outputId": "504fb2b6-b27b-4914-948e-b1ed4128da24"
      },
      "source": [
        "single_layer=singleLayer_new(l2=0.01)\n",
        "single_layer.fit(x_train_scaled,y_train,x_val=x_val_scaled,y_val=y_val,epochs=10000)\n",
        "single_layer.score(x_val_scaled,y_val)"
      ],
      "execution_count": 15,
      "outputs": [
        {
          "output_type": "execute_result",
          "data": {
            "text/plain": [
              "0.978021978021978"
            ]
          },
          "metadata": {
            "tags": []
          },
          "execution_count": 15
        }
      ]
    },
    {
      "cell_type": "code",
      "metadata": {
        "id": "rScS_eNSHKq_",
        "colab_type": "code",
        "colab": {
          "base_uri": "https://localhost:8080/",
          "height": 283
        },
        "outputId": "201fe7a5-30e8-4366-a803-3a224881afbd"
      },
      "source": [
        "plt.ylim(0,0.3)\n",
        "plt.plot(single_layer.losses)\n",
        "plt.plot(single_layer.val_losses)\n",
        "plt.ylabel('loss')\n",
        "plt.xlabel('epoch')\n",
        "plt.legend(['train_loss','val_loss'])\n",
        "plt.show()\n",
        "# 그래프를 보고 배치 경사하강법의 특징을 알 수 있음"
      ],
      "execution_count": 16,
      "outputs": [
        {
          "output_type": "display_data",
          "data": {
            "image/png": "[encoded data removed]",
            "text/plain": [
              "<Figure size 432x288 with 1 Axes>"
            ]
          },
          "metadata": {
            "tags": []
          }
        }
      ]
    },
    {
      "cell_type": "code",
      "metadata": {
        "id": "yKLHdK_IHLkF",
        "colab_type": "code",
        "colab": {
          "base_uri": "https://localhost:8080/",
          "height": 279
        },
        "outputId": "249913a6-dec6-4c49-e7b1-3806ac82f693"
      },
      "source": [
        "# 가중치의 변화를 살펴보기 위함\n",
        "w2=[]\n",
        "w3=[]\n",
        "for w in single_layer.w_history:\n",
        "  w2.append(w[2])\n",
        "  w3.append(w[3])\n",
        "plt.plot(w2,w3)\n",
        "plt.plot(w2[-1],w3[-1],'ro')\n",
        "plt.xlabel('w[2]')\n",
        "plt.ylabel('x[3]')\n",
        "plt.show()"
      ],
      "execution_count": 17,
      "outputs": [
        {
          "output_type": "display_data",
          "data": {
            "image/png": "[encoded data removed]",
            "text/plain": [
              "<Figure size 432x288 with 1 Axes>"
            ]
          },
          "metadata": {
            "tags": []
          }
        }
      ]
    },
    {
      "cell_type": "code",
      "metadata": {
        "id": "B6AvqJlGHd33",
        "colab_type": "code",
        "colab": {}
      },
      "source": [
        "# 다층 신경망 구현\n",
        "# 부모클래스 - singleLayer_new, 자식클래스 - DualLayer\n",
        "# 수정된 부분이외의 함수(부모클래스로부터 물려받은 함수)를 생략하지 않은 이유는\n",
        "# 이해하기 편리하게 하기 위함.\n",
        "class DualLayer(singleLayer_new):\n",
        "\n",
        "  def __init__(self,units=10,learning_rate=0.1,l1=0,l2=0):\n",
        "    self.units=units\n",
        "    self.w1=None\n",
        "    self.b1=None\n",
        "    self.w2=None\n",
        "    self.b2=None\n",
        "    self.a1=None\n",
        "    self.losses=[]\n",
        "    self.val_losses=[]\n",
        "    self.lr=learning_rate\n",
        "    self.l1=l1\n",
        "    self.l2=l2\n",
        "\n",
        "  def forpass(self,x):\n",
        "    z1=np.dot(x,self.w1)+self.b1\n",
        "    self.a1=self.activation(z1)\n",
        "    z2=np.dot(self.a1,self.w2)+self.b2\n",
        "    return z2\n",
        "\n",
        "  def backprop(self,x,err):\n",
        "    m=len(x)\n",
        "    w2_grad=np.dot(self.a1.T,err)/m\n",
        "    b2_grad=np.sum(err)/m\n",
        "    err_to_hidden=np.dot(err,self.w2.T) * self.a1 * (1-self.a1)\n",
        "    w1_grad=np.dot(x.T,err_to_hidden)/m\n",
        "    b1_grad=np.sum(err_to_hidden,axis=0)/m\n",
        "    return w1_grad,b1_grad,w2_grad,b2_grad\n",
        "\n",
        "  def activation(self,z):\n",
        "    a=1/(1+np.exp(-z))\n",
        "    return a\n",
        "\n",
        "  def init_weights(self,n_features):\n",
        "    self.w1=np.ones((n_features,self.units))\n",
        "    self.b1=np.zeros(self.units)\n",
        "    self.w2=np.ones((self.units,1))\n",
        "    self.b2=0\n",
        "\n",
        "  def reg_loss(self):\n",
        "    return self.l1 * (np.sum(np.abs(self.w1)) + np.sum(np.abs(self.w2))) + self.l2/2*(np.sum(self.w1**2) + np.sum(self.w2**2))\n",
        "\n",
        "  def update_val_loss(self,x_val,y_val):\n",
        "    z=self.forpass(x_val)\n",
        "    a=self.activation(z)\n",
        "    a=np.clip(a,1e-10,1-1e-10)\n",
        "    val_loss=np.sum(-(y_val*np.log(a)+(1-y_val)*np.log(1-a)))\n",
        "    self.val_losses.append((val_loss+self.reg_loss())/len(y_val))\n",
        "\n",
        "  def fit(self,x,y,epochs=100,x_val=None,y_val=None):\n",
        "    y=y.reshape(-1,1)\n",
        "    y_val=y_val.reshape(-1,1)\n",
        "    m=len(x)\n",
        "    self.init_weights(x.shape[1])\n",
        "    for i in range(epochs):\n",
        "        a=self.training(x,y,m)\n",
        "        a=np.clip(a,1e-10,1-1e-10)\n",
        "        loss=np.sum(-(y*np.log(a)+(1-y)*np.log(1-a)))\n",
        "        self.losses.append((loss+self.reg_loss())/m)\n",
        "        self.update_val_loss(x_val,y_val)\n",
        "\n",
        "\n",
        "  def training(self,x,y,m):\n",
        "    z=self.forpass(x)\n",
        "    a=self.activation(z)\n",
        "    err=-(y-a)\n",
        "    w1_grad,b1_grad,w2_grad,b2_grad=self.backprop(x,err)\n",
        "    w1_grad+=(self.l1 * np.sign(self.w1) + self.l2 * self.w1)/m\n",
        "    w2_grad+=(self.l1 * np.sign(self.w2) + self.l2 * self.w2)/m\n",
        "    self.w1-=self.lr * w1_grad\n",
        "    self.b1-=self.lr * b1_grad\n",
        "    self.w2-=self.lr * w2_grad\n",
        "    self.b2-=self.lr * b2_grad\n",
        "    return a\n",
        "\n",
        "  def predict(self,x):\n",
        "    z=self.forpass(x)\n",
        "    return z>0\n",
        "\n",
        "  def score(self,x,y):\n",
        "    return np.mean(self.predict(x)==y.reshape(-1,1))"
      ],
      "execution_count": 0,
      "outputs": []
    },
    {
      "cell_type": "code",
      "metadata": {
        "id": "qlyS9jvrHq40",
        "colab_type": "code",
        "colab": {
          "base_uri": "https://localhost:8080/",
          "height": 35
        },
        "outputId": "f8777b8e-e6c1-4b53-c6fc-80cd8f1f5c82"
      },
      "source": [
        "dual_layer=DualLayer(l2=0.01)\n",
        "dual_layer.fit(x_train_scaled,y_train,x_val=x_val_scaled,y_val=y_val,epochs=20000)\n",
        "dual_layer.score(x_val_scaled,y_val)"
      ],
      "execution_count": 19,
      "outputs": [
        {
          "output_type": "execute_result",
          "data": {
            "text/plain": [
              "0.978021978021978"
            ]
          },
          "metadata": {
            "tags": []
          },
          "execution_count": 19
        }
      ]
    },
    {
      "cell_type": "code",
      "metadata": {
        "id": "HUoP5eIIHvXr",
        "colab_type": "code",
        "colab": {
          "base_uri": "https://localhost:8080/",
          "height": 283
        },
        "outputId": "64205d8d-944e-489f-9f7f-b7099fb63f2b"
      },
      "source": [
        "plt.ylim(0,0.3)\n",
        "plt.plot(dual_layer.losses)\n",
        "plt.plot(dual_layer.val_losses)\n",
        "plt.ylabel('loss')\n",
        "plt.xlabel('epoch')\n",
        "plt.legend(['train_loss','val_loss'])\n",
        "plt.show()"
      ],
      "execution_count": 20,
      "outputs": [
        {
          "output_type": "display_data",
          "data": {
            "image/png": "[encoded data removed]",
            "text/plain": [
              "<Figure size 432x288 with 1 Axes>"
            ]
          },
          "metadata": {
            "tags": []
          }
        }
      ]
    },
    {
      "cell_type": "code",
      "metadata": {
        "id": "LAWu0AGGHwKQ",
        "colab_type": "code",
        "colab": {}
      },
      "source": [
        "# 가중치 초기화를 개선한 모델.\n",
        "# 부모클래스 - DualLayer , 자식클래스 - RandomInitNetwork\n",
        "# 부모클래스의 모든 자원을 사용할 수 있는 상속의 특징이 있으므로\n",
        "# 추가된 함수외에는 따로 써놓지 않음.\n",
        "class RandomInitNetwork(DualLayer):\n",
        "\n",
        "  def init_weights(self,n_features):\n",
        "    np.random.seed(42)\n",
        "    self.w1=np.random.normal(0,1,(n_features,self.units))\n",
        "    self.b1=np.zeros(self.units)\n",
        "    self.w2=np.random.normal(0,1,(self.units,1))\n",
        "    self.b2=0\n"
      ],
      "execution_count": 0,
      "outputs": []
    },
    {
      "cell_type": "code",
      "metadata": {
        "id": "Mo4nS7R6J1UC",
        "colab_type": "code",
        "colab": {}
      },
      "source": [
        "random_init_net=RandomInitNetwork(l2=0.01)\n",
        "random_init_net.fit(x_train_scaled,y_train,x_val=x_val_scaled,y_val=y_val,epochs=500)"
      ],
      "execution_count": 0,
      "outputs": []
    },
    {
      "cell_type": "code",
      "metadata": {
        "id": "I7ege2bRJ5Ea",
        "colab_type": "code",
        "colab": {
          "base_uri": "https://localhost:8080/",
          "height": 283
        },
        "outputId": "daf3c09c-e28b-4230-833a-7e7f57247cc0"
      },
      "source": [
        "plt.ylim(0,0.3)\n",
        "plt.plot(random_init_net.losses)\n",
        "plt.plot(random_init_net.val_losses)\n",
        "plt.ylabel('loss')\n",
        "plt.xlabel('epoch')\n",
        "plt.legend(['train_loss','val_loss'])\n",
        "plt.show()\n",
        "# 가중치를 1로 설정한 것 보다(=DualLayer) 가중치를 랜덤초기화한(=RandomInitNetwork) 것이\n",
        "# 더 빠르게 손실함수값이 줄어드는 것을 볼 수 있음."
      ],
      "execution_count": 23,
      "outputs": [
        {
          "output_type": "display_data",
          "data": {
            "image/png": "[encoded data removed]",
            "text/plain": [
              "<Figure size 432x288 with 1 Axes>"
            ]
          },
          "metadata": {
            "tags": []
          }
        }
      ]
    },
    {
      "cell_type": "code",
      "metadata": {
        "id": "mf5YdsJ-J6sL",
        "colab_type": "code",
        "colab": {}
      },
      "source": [
        "# 미니배치 : 배치경사하강 + 확률적경사하강\n",
        "class MinibatchNetwork(RandomInitNetwork):\n",
        "    \n",
        "    def __init__(self, units=10, batch_size=32, learning_rate=0.1, l1=0, l2=0):\n",
        "        super().__init__(units, learning_rate, l1, l2)\n",
        "        self.batch_size = batch_size     # 배치 크기\n",
        "        \n",
        "    def fit(self, x, y, epochs=100, x_val=None, y_val=None):\n",
        "        y_val = y_val.reshape(-1, 1)\n",
        "        self.init_weights(x.shape[1])\n",
        "        np.random.seed(42)\n",
        "        for i in range(epochs):\n",
        "            loss = 0\n",
        "            for x_batch, y_batch in self.gen_batch(x, y):\n",
        "                y_batch = y_batch.reshape(-1, 1)\n",
        "                m = len(x_batch)\n",
        "                a = self.training(x_batch, y_batch, m)\n",
        "                a = np.clip(a, 1e-10, 1-1e-10)\n",
        "                loss += np.sum(-(y_batch*np.log(a) + (1-y_batch)*np.log(1-a)))\n",
        "            self.losses.append((loss + self.reg_loss()) / len(x))\n",
        "            self.update_val_loss(x_val, y_val)\n",
        "\n",
        "    def gen_batch(self, x, y):\n",
        "        length = len(x)\n",
        "        bins = length // self.batch_size # 미니배치 횟수\n",
        "        if length % self.batch_size:\n",
        "            bins += 1 \n",
        "        indexes = np.random.permutation(np.arange(len(x)))\n",
        "        x = x[indexes]\n",
        "        y = y[indexes]\n",
        "        for i in range(bins):\n",
        "            start = self.batch_size * i\n",
        "            end = self.batch_size * (i + 1)\n",
        "            yield x[start:end], y[start:end]"
      ],
      "execution_count": 0,
      "outputs": []
    },
    {
      "cell_type": "code",
      "metadata": {
        "id": "emSoWbqeKcaQ",
        "colab_type": "code",
        "colab": {
          "base_uri": "https://localhost:8080/",
          "height": 35
        },
        "outputId": "07539d46-7e03-4acf-e4d6-e253bebb14d2"
      },
      "source": [
        "minibatch_net=MinibatchNetwork(l2=0.01,batch_size=32)\n",
        "minibatch_net.fit(x_train_scaled,y_train,x_val=x_val_scaled,y_val=y_val,epochs=500)\n",
        "minibatch_net.score(x_val_scaled,y_val)"
      ],
      "execution_count": 25,
      "outputs": [
        {
          "output_type": "execute_result",
          "data": {
            "text/plain": [
              "0.978021978021978"
            ]
          },
          "metadata": {
            "tags": []
          },
          "execution_count": 25
        }
      ]
    },
    {
      "cell_type": "code",
      "metadata": {
        "id": "kCsVwvuxKdXu",
        "colab_type": "code",
        "colab": {
          "base_uri": "https://localhost:8080/",
          "height": 279
        },
        "outputId": "de2e0810-47e3-4926-b468-5730931348ca"
      },
      "source": [
        "plt.plot(minibatch_net.losses)\n",
        "plt.plot(minibatch_net.val_losses)\n",
        "plt.ylabel('loss')\n",
        "plt.xlabel('iteration')\n",
        "plt.legend(['train_loss','val_loss'])\n",
        "plt.show()"
      ],
      "execution_count": 26,
      "outputs": [
        {
          "output_type": "display_data",
          "data": {
            "image/png": "[encoded data removed]",
            "text/plain": [
              "<Figure size 432x288 with 1 Axes>"
            ]
          },
          "metadata": {
            "tags": []
          }
        }
      ]
    },
    {
      "cell_type": "code",
      "metadata": {
        "id": "lhfjyrg4Ke0e",
        "colab_type": "code",
        "colab": {
          "base_uri": "https://localhost:8080/",
          "height": 279
        },
        "outputId": "1c76c008-6b24-4001-96a5-92cf186c91f8"
      },
      "source": [
        "plt.plot(minibatch_net.losses)\n",
        "plt.plot(minibatch_net.val_losses)\n",
        "plt.ylabel('loss')\n",
        "plt.xlabel('iteration')\n",
        "plt.legend(['train_loss','val_loss'])\n",
        "plt.show()"
      ],
      "execution_count": 27,
      "outputs": [
        {
          "output_type": "display_data",
          "data": {
            "image/png": "[encoded data removed]",
            "text/plain": [
              "<Figure size 432x288 with 1 Axes>"
            ]
          },
          "metadata": {
            "tags": []
          }
        }
      ]
    },
    {
      "cell_type": "code",
      "metadata": {
        "id": "CkSs3VvtKnH7",
        "colab_type": "code",
        "colab": {
          "base_uri": "https://localhost:8080/",
          "height": 35
        },
        "outputId": "76b7dd96-ae88-42c1-d237-4865bbae85a5"
      },
      "source": [
        "# 배치사이즈를 늘림(32 -> 128)\n",
        "minibatch_net2=MinibatchNetwork(l2=0.01,batch_size=128)\n",
        "minibatch_net2.fit(x_train_scaled,y_train,x_val=x_val_scaled,y_val=y_val,epochs=500)\n",
        "minibatch_net2.score(x_val_scaled,y_val)"
      ],
      "execution_count": 28,
      "outputs": [
        {
          "output_type": "execute_result",
          "data": {
            "text/plain": [
              "0.978021978021978"
            ]
          },
          "metadata": {
            "tags": []
          },
          "execution_count": 28
        }
      ]
    },
    {
      "cell_type": "code",
      "metadata": {
        "id": "L4LaZTxBKyNL",
        "colab_type": "code",
        "colab": {
          "base_uri": "https://localhost:8080/",
          "height": 279
        },
        "outputId": "e3d91e9f-8240-4044-de20-6f55473f4505"
      },
      "source": [
        "plt.plot(minibatch_net2.losses)\n",
        "plt.plot(minibatch_net2.val_losses)\n",
        "plt.ylabel('loss')\n",
        "plt.xlabel('iteration')\n",
        "plt.legend(['train_loss','val_loss'])\n",
        "plt.show()"
      ],
      "execution_count": 29,
      "outputs": [
        {
          "output_type": "display_data",
          "data": {
            "image/png": "[encoded data removed]",
            "text/plain": [
              "<Figure size 432x288 with 1 Axes>"
            ]
          },
          "metadata": {
            "tags": []
          }
        }
      ]
    },
    {
      "cell_type": "code",
      "metadata": {
        "id": "sVQP4E-xKzGe",
        "colab_type": "code",
        "colab": {}
      },
      "source": [
        "# 사이킷런 모듈을 이용한 다층신경망 구현\n",
        "from sklearn.neural_network import MLPClassifier\n",
        "mlp=MLPClassifier(hidden_layer_sizes=(10,),activation='logistic',\n",
        "                  solver='sgd',alpha=0.01,batch_size=32,learning_rate_init=0.1,max_iter=500)"
      ],
      "execution_count": 0,
      "outputs": []
    },
    {
      "cell_type": "code",
      "metadata": {
        "id": "mkX55cJHK-RE",
        "colab_type": "code",
        "colab": {
          "base_uri": "https://localhost:8080/",
          "height": 35
        },
        "outputId": "ea651b44-ff07-4ce8-b016-f35c3ff88c4b"
      },
      "source": [
        "mlp.fit(x_train_scaled,y_train)\n",
        "mlp.score(x_val_scaled,y_val)"
      ],
      "execution_count": 31,
      "outputs": [
        {
          "output_type": "execute_result",
          "data": {
            "text/plain": [
              "0.989010989010989"
            ]
          },
          "metadata": {
            "tags": []
          },
          "execution_count": 31
        }
      ]
    }
  ]
}
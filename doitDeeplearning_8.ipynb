{
  "nbformat": 4,
  "nbformat_minor": 0,
  "metadata": {
    "colab": {
      "name": "doitDeeplearning_8.ipynb",
      "provenance": [],
      "collapsed_sections": [],
      "authorship_tag": "ABX9TyOhQDxwrs3pASYb7d2Rc34o",
      "include_colab_link": true
    },
    "kernelspec": {
      "name": "python3",
      "display_name": "Python 3"
    }
  },
  "cells": [
    {
      "cell_type": "markdown",
      "metadata": {
        "id": "view-in-github",
        "colab_type": "text"
      },
      "source": [
        "<a href=\"https://colab.research.google.com/github/sohyeon98720/doitDeeplearning/blob/master/doitDeeplearning_8.ipynb\" target=\"_parent\"><img src=\"https://colab.research.google.com/assets/colab-badge.svg\" alt=\"Open In Colab\"/></a>"
      ]
    },
    {
      "cell_type": "code",
      "metadata": {
        "id": "ge3BSrqv9wMZ",
        "colab_type": "code",
        "colab": {}
      },
      "source": [
        "# 8강 : 합성곱 신경망\n",
        "# 합성곱에 대한 설명\n",
        "import numpy as np\n",
        "w=np.array([2,1,5,3])\n",
        "x=np.array([2,8,3,7,1,2,0,4,5])"
      ],
      "execution_count": 0,
      "outputs": []
    },
    {
      "cell_type": "code",
      "metadata": {
        "id": "MUR-10IA98En",
        "colab_type": "code",
        "colab": {
          "base_uri": "https://localhost:8080/",
          "height": 35
        },
        "outputId": "bcbe98ad-65d7-4590-b2bb-e2bf075aad00"
      },
      "source": [
        "w_r=np.flip(w)\n",
        "print(w_r)"
      ],
      "execution_count": 2,
      "outputs": [
        {
          "output_type": "stream",
          "text": [
            "[3 5 1 2]\n"
          ],
          "name": "stdout"
        }
      ]
    },
    {
      "cell_type": "code",
      "metadata": {
        "id": "4rFjH8xR99ZC",
        "colab_type": "code",
        "colab": {
          "base_uri": "https://localhost:8080/",
          "height": 127
        },
        "outputId": "5be28391-5f81-4e95-cb03-deae8ffa42f9"
      },
      "source": [
        "for i in range(len(x)-len(w)+1):\n",
        "  print(np.dot(x[i:i+4],w_r))"
      ],
      "execution_count": 3,
      "outputs": [
        {
          "output_type": "stream",
          "text": [
            "63\n",
            "48\n",
            "49\n",
            "28\n",
            "21\n",
            "20\n"
          ],
          "name": "stdout"
        }
      ]
    },
    {
      "cell_type": "code",
      "metadata": {
        "id": "2I2cDmdj9_In",
        "colab_type": "code",
        "colab": {
          "base_uri": "https://localhost:8080/",
          "height": 35
        },
        "outputId": "56e2cc51-9632-471a-baf6-e01cc1ddbcfe"
      },
      "source": [
        "from scipy.signal import convolve\n",
        "convolve(x,w,mode='valid')"
      ],
      "execution_count": 4,
      "outputs": [
        {
          "output_type": "execute_result",
          "data": {
            "text/plain": [
              "array([63, 48, 49, 28, 21, 20])"
            ]
          },
          "metadata": {
            "tags": []
          },
          "execution_count": 4
        }
      ]
    },
    {
      "cell_type": "code",
      "metadata": {
        "id": "6j7mGwXl-AvT",
        "colab_type": "code",
        "colab": {
          "base_uri": "https://localhost:8080/",
          "height": 35
        },
        "outputId": "e4ab3a15-76e8-4a54-e7be-d94aebb900a5"
      },
      "source": [
        "# 합성곱과 교차상관이 다른 점 : 미끄러지는 배열이 뒤집어져있는지, 똑바론지\n",
        "from scipy.signal import correlate\n",
        "correlate(x,w,mode='valid')\n",
        "# 가중치가 어차피 무작위로 초기화되어있기 때문에 뒤집어져있는지 여부는 중요 X"
      ],
      "execution_count": 5,
      "outputs": [
        {
          "output_type": "execute_result",
          "data": {
            "text/plain": [
              "array([48, 57, 24, 25, 16, 39])"
            ]
          },
          "metadata": {
            "tags": []
          },
          "execution_count": 5
        }
      ]
    },
    {
      "cell_type": "code",
      "metadata": {
        "id": "I1YqF_F4-B0s",
        "colab_type": "code",
        "colab": {
          "base_uri": "https://localhost:8080/",
          "height": 35
        },
        "outputId": "20d9d81b-3ded-450f-a366-594d07c6b528"
      },
      "source": [
        "correlate(x,w,mode='full')\n",
        "# full 패딩은 원본 배열 원소의 연산 참여도를 동일하게 함"
      ],
      "execution_count": 6,
      "outputs": [
        {
          "output_type": "execute_result",
          "data": {
            "text/plain": [
              "array([ 6, 34, 51, 48, 57, 24, 25, 16, 39, 29, 13, 10])"
            ]
          },
          "metadata": {
            "tags": []
          },
          "execution_count": 6
        }
      ]
    },
    {
      "cell_type": "code",
      "metadata": {
        "id": "NSCbDvwc-DP3",
        "colab_type": "code",
        "colab": {
          "base_uri": "https://localhost:8080/",
          "height": 35
        },
        "outputId": "522876af-bc31-4063-f57b-ccfdc90e1b73"
      },
      "source": [
        "correlate(x,w,mode='same')\n",
        "# same 패딩은 출력 배열의 길이를 원본 배열의 길이와 동일하게 함"
      ],
      "execution_count": 7,
      "outputs": [
        {
          "output_type": "execute_result",
          "data": {
            "text/plain": [
              "array([34, 51, 48, 57, 24, 25, 16, 39, 29])"
            ]
          },
          "metadata": {
            "tags": []
          },
          "execution_count": 7
        }
      ]
    },
    {
      "cell_type": "code",
      "metadata": {
        "id": "j1oYxXFO-bQZ",
        "colab_type": "code",
        "colab": {
          "base_uri": "https://localhost:8080/",
          "height": 54
        },
        "outputId": "2951a2c8-6601-4602-a97a-c245f4df58ef"
      },
      "source": [
        "x=np.array([[1,2,3],\n",
        "            [4,5,6],\n",
        "            [7,8,9]])\n",
        "\n",
        "w=np.array([[2,0],[0,0]])\n",
        "\n",
        "from scipy.signal import correlate2d\n",
        "correlate2d(x,w,mode='valid')"
      ],
      "execution_count": 8,
      "outputs": [
        {
          "output_type": "execute_result",
          "data": {
            "text/plain": [
              "array([[ 2,  4],\n",
              "       [ 8, 10]])"
            ]
          },
          "metadata": {
            "tags": []
          },
          "execution_count": 8
        }
      ]
    },
    {
      "cell_type": "code",
      "metadata": {
        "id": "FYUiY1ur-dOe",
        "colab_type": "code",
        "colab": {
          "base_uri": "https://localhost:8080/",
          "height": 72
        },
        "outputId": "43c95f60-f96d-4cd3-ee96-73b9489f6094"
      },
      "source": [
        "correlate2d(x,w,mode='same')"
      ],
      "execution_count": 9,
      "outputs": [
        {
          "output_type": "execute_result",
          "data": {
            "text/plain": [
              "array([[ 2,  4,  6],\n",
              "       [ 8, 10, 12],\n",
              "       [14, 16, 18]])"
            ]
          },
          "metadata": {
            "tags": []
          },
          "execution_count": 9
        }
      ]
    },
    {
      "cell_type": "code",
      "metadata": {
        "id": "cPH0GwaZ-eiJ",
        "colab_type": "code",
        "colab": {}
      },
      "source": [
        "# !pip install tensorflow-gpu==2.0.0-rc2\n",
        "# 위의 문장은 경고나 오류가 뜰 경우만 수행\n",
        "import tensorflow as tf\n",
        "x_4d=x.astype(np.float).reshape(1,3,3,1)\n",
        "w_4d=w.reshape(2,2,1,1)"
      ],
      "execution_count": 0,
      "outputs": []
    },
    {
      "cell_type": "code",
      "metadata": {
        "id": "8ZawGmdl-icA",
        "colab_type": "code",
        "colab": {}
      },
      "source": [
        "c_out=tf.nn.conv2d(x_4d,w_4d,strides=1,padding='SAME')"
      ],
      "execution_count": 0,
      "outputs": []
    },
    {
      "cell_type": "code",
      "metadata": {
        "id": "d_Mcee9u-81W",
        "colab_type": "code",
        "colab": {
          "base_uri": "https://localhost:8080/",
          "height": 72
        },
        "outputId": "2938f0d5-e77e-4317-87f9-19a863d50339"
      },
      "source": [
        "c_out.numpy().reshape(3,3)"
      ],
      "execution_count": 13,
      "outputs": [
        {
          "output_type": "execute_result",
          "data": {
            "text/plain": [
              "array([[ 2.,  4.,  6.],\n",
              "       [ 8., 10., 12.],\n",
              "       [14., 16., 18.]])"
            ]
          },
          "metadata": {
            "tags": []
          },
          "execution_count": 13
        }
      ]
    },
    {
      "cell_type": "code",
      "metadata": {
        "id": "FmJA-2Aj-9_A",
        "colab_type": "code",
        "colab": {}
      },
      "source": [
        "x=np.array([[1,2,3,4],\n",
        "            [5,6,7,8],\n",
        "            [9,10,11,12],\n",
        "            [13,14,15,16]])\n",
        "x=x.reshape(1,4,4,1)"
      ],
      "execution_count": 0,
      "outputs": []
    },
    {
      "cell_type": "code",
      "metadata": {
        "id": "4d1bIs-x-_Hj",
        "colab_type": "code",
        "colab": {
          "base_uri": "https://localhost:8080/",
          "height": 54
        },
        "outputId": "4e571cd2-e5b6-4485-c56d-4dadaf37a045"
      },
      "source": [
        "p_out=tf.nn.max_pool2d(x,ksize=2,strides=2,padding='VALID')\n",
        "p_out.numpy().reshape(2,2)"
      ],
      "execution_count": 15,
      "outputs": [
        {
          "output_type": "execute_result",
          "data": {
            "text/plain": [
              "array([[ 6,  8],\n",
              "       [14, 16]])"
            ]
          },
          "metadata": {
            "tags": []
          },
          "execution_count": 15
        }
      ]
    },
    {
      "cell_type": "code",
      "metadata": {
        "id": "6TjoLk79_ALZ",
        "colab_type": "code",
        "colab": {}
      },
      "source": [
        "# 새로운 활성화 함수 : relu\n",
        "def relu(x):\n",
        "  return np.maximum(x,0)"
      ],
      "execution_count": 0,
      "outputs": []
    },
    {
      "cell_type": "code",
      "metadata": {
        "id": "k6Y79Aol_CrL",
        "colab_type": "code",
        "colab": {
          "base_uri": "https://localhost:8080/",
          "height": 35
        },
        "outputId": "33294c7a-1077-409b-99ca-1db9126d377f"
      },
      "source": [
        "x=np.array([-1,2,-3,4,-5])\n",
        "relu(x)"
      ],
      "execution_count": 17,
      "outputs": [
        {
          "output_type": "execute_result",
          "data": {
            "text/plain": [
              "array([0, 2, 0, 4, 0])"
            ]
          },
          "metadata": {
            "tags": []
          },
          "execution_count": 17
        }
      ]
    },
    {
      "cell_type": "code",
      "metadata": {
        "id": "lx5opRw6_MIQ",
        "colab_type": "code",
        "colab": {
          "base_uri": "https://localhost:8080/",
          "height": 35
        },
        "outputId": "5a9c4046-674c-4f77-c327-d77fde8232c4"
      },
      "source": [
        "r_out=tf.nn.relu(x)\n",
        "r_out.numpy()"
      ],
      "execution_count": 18,
      "outputs": [
        {
          "output_type": "execute_result",
          "data": {
            "text/plain": [
              "array([0, 2, 0, 4, 0])"
            ]
          },
          "metadata": {
            "tags": []
          },
          "execution_count": 18
        }
      ]
    },
    {
      "cell_type": "code",
      "metadata": {
        "id": "SExys3aW_NAM",
        "colab_type": "code",
        "colab": {}
      },
      "source": [
        "class ConvolutionNetwork:\n",
        "    \n",
        "    def __init__(self, n_kernels=10, units=10, batch_size=32, learning_rate=0.1):\n",
        "        self.n_kernels = n_kernels  # 합성곱의 커널 개수\n",
        "        self.kernel_size = 3        # 커널 크기\n",
        "        self.optimizer = None       # 옵티마이저\n",
        "        self.conv_w = None          # 합성곱 층의 가중치\n",
        "        self.conv_b = None          # 합성곱 층의 절편\n",
        "        self.units = units          # 은닉층의 뉴런 개수\n",
        "        self.batch_size = batch_size  # 배치 크기\n",
        "        self.w1 = None              # 은닉층의 가중치\n",
        "        self.b1 = None              # 은닉층의 절편\n",
        "        self.w2 = None              # 출력층의 가중치\n",
        "        self.b2 = None              # 출력층의 절편\n",
        "        self.a1 = None              # 은닉층의 활성화 출력\n",
        "        self.losses = []            # 훈련 손실\n",
        "        self.val_losses = []        # 검증 손실\n",
        "        self.lr = learning_rate     # 학습률\n",
        "\n",
        "    def forpass(self, x):\n",
        "        c_out = tf.nn.conv2d(x, self.conv_w, strides=1, padding='SAME') + self.conv_b\n",
        "        r_out = tf.nn.relu(c_out)\n",
        "        p_out = tf.nn.max_pool2d(r_out, ksize=2, strides=2, padding='VALID')\n",
        "        f_out = tf.reshape(p_out, [x.shape[0], -1])\n",
        "        z1 = tf.matmul(f_out, self.w1) + self.b1\n",
        "        a1 = tf.nn.relu(z1)                     \n",
        "        z2 = tf.matmul(a1, self.w2) + self.b2\n",
        "        return z2\n",
        "    \n",
        "    def init_weights(self, input_shape, n_classes):\n",
        "        g = tf.initializers.glorot_uniform()\n",
        "        self.conv_w = tf.Variable(g((3, 3, 1, self.n_kernels)))\n",
        "        self.conv_b = tf.Variable(np.zeros(self.n_kernels), dtype=float)\n",
        "        n_features = 14 * 14 * self.n_kernels\n",
        "        self.w1 = tf.Variable(g((n_features, self.units)))          # (특성 개수, 은닉층의 크기)\n",
        "        self.b1 = tf.Variable(np.zeros(self.units), dtype=float)    # 은닉층의 크기\n",
        "        self.w2 = tf.Variable(g((self.units, n_classes)))           # (은닉층의 크기, 클래스 개수)\n",
        "        self.b2 = tf.Variable(np.zeros(n_classes), dtype=float)     # 클래스 개수\n",
        "        \n",
        "    def fit(self, x, y, epochs=100, x_val=None, y_val=None):\n",
        "        self.init_weights(x.shape, y.shape[1])\n",
        "        self.optimizer = tf.optimizers.SGD(learning_rate=self.lr)\n",
        "        for i in range(epochs):\n",
        "            print('에포크', i, end=' ')\n",
        "            batch_losses = []\n",
        "            for x_batch, y_batch in self.gen_batch(x, y):\n",
        "                print('.', end='')\n",
        "                self.training(x_batch, y_batch)\n",
        "                batch_losses.append(self.get_loss(x_batch, y_batch))\n",
        "            print()\n",
        "            self.losses.append(np.mean(batch_losses))\n",
        "            self.val_losses.append(self.get_loss(x_val, y_val))\n",
        "\n",
        "    def gen_batch(self, x, y):\n",
        "        bins = len(x) // self.batch_size       \n",
        "        indexes = np.random.permutation(np.arange(len(x)))\n",
        "        x = x[indexes]\n",
        "        y = y[indexes]\n",
        "        for i in range(bins):\n",
        "            start = self.batch_size * i\n",
        "            end = self.batch_size * (i + 1)\n",
        "            yield x[start:end], y[start:end]\n",
        "            \n",
        "    def training(self, x, y):\n",
        "        m = len(x)                  \n",
        "        with tf.GradientTape() as tape:\n",
        "            z = self.forpass(x)  \n",
        "            loss = tf.nn.softmax_cross_entropy_with_logits(y, z)\n",
        "            loss = tf.reduce_mean(loss)\n",
        "\n",
        "        weights_list = [self.conv_w, self.conv_b,\n",
        "                        self.w1, self.b1, self.w2, self.b2]\n",
        "        grads = tape.gradient(loss, weights_list)\n",
        "        self.optimizer.apply_gradients(zip(grads, weights_list))\n",
        "   \n",
        "    def predict(self, x):\n",
        "        z = self.forpass(x)               \n",
        "        return np.argmax(z.numpy(), axis=1)\n",
        "    \n",
        "    def score(self, x, y):\n",
        "        return np.mean(self.predict(x) == np.argmax(y, axis=1))\n",
        "\n",
        "    def get_loss(self, x, y):\n",
        "        z = self.forpass(x)        \n",
        "        loss = tf.reduce_mean(tf.nn.softmax_cross_entropy_with_logits(y, z))\n",
        "        return loss.numpy()"
      ],
      "execution_count": 0,
      "outputs": []
    },
    {
      "cell_type": "code",
      "metadata": {
        "id": "lkWnf_j8_OKA",
        "colab_type": "code",
        "colab": {
          "base_uri": "https://localhost:8080/",
          "height": 184
        },
        "outputId": "8841e087-b4a3-46e5-cb72-7de04ac2c013"
      },
      "source": [
        "# 데이터셋은 7강과 동일\n",
        "(x_train_all,y_train_all),(x_test,y_test)=tf.keras.datasets.fashion_mnist.load_data()"
      ],
      "execution_count": 20,
      "outputs": [
        {
          "output_type": "stream",
          "text": [
            "Downloading data from https://storage.googleapis.com/tensorflow/tf-keras-datasets/train-labels-idx1-ubyte.gz\n",
            "32768/29515 [=================================] - 0s 0us/step\n",
            "Downloading data from https://storage.googleapis.com/tensorflow/tf-keras-datasets/train-images-idx3-ubyte.gz\n",
            "26427392/26421880 [==============================] - 0s 0us/step\n",
            "Downloading data from https://storage.googleapis.com/tensorflow/tf-keras-datasets/t10k-labels-idx1-ubyte.gz\n",
            "8192/5148 [===============================================] - 0s 0us/step\n",
            "Downloading data from https://storage.googleapis.com/tensorflow/tf-keras-datasets/t10k-images-idx3-ubyte.gz\n",
            "4423680/4422102 [==============================] - 0s 0us/step\n"
          ],
          "name": "stdout"
        }
      ]
    },
    {
      "cell_type": "code",
      "metadata": {
        "id": "Bu1NiWBV_S9A",
        "colab_type": "code",
        "colab": {}
      },
      "source": [
        "# train, val, test set으로 나누기\n",
        "from sklearn.model_selection import train_test_split\n",
        "x_train,x_val,y_train,y_val=train_test_split(x_train_all,y_train_all,stratify=y_train_all,test_size=0.2,random_state=42)"
      ],
      "execution_count": 0,
      "outputs": []
    },
    {
      "cell_type": "code",
      "metadata": {
        "id": "bGPXou35_UYh",
        "colab_type": "code",
        "colab": {}
      },
      "source": [
        "# 정답 배열에 대한 원 핫 인코딩 수행\n",
        "y_train_encoded=tf.keras.utils.to_categorical(y_train)\n",
        "y_val_encoded=tf.keras.utils.to_categorical(y_val)"
      ],
      "execution_count": 0,
      "outputs": []
    },
    {
      "cell_type": "code",
      "metadata": {
        "id": "Hbu0tGqk_VSP",
        "colab_type": "code",
        "colab": {}
      },
      "source": [
        "# 컬러를 나타내는 차원 추가하기\n",
        "x_train=x_train.reshape(-1,28,28,1)\n",
        "x_val=x_val.reshape(-1,28,28,1)"
      ],
      "execution_count": 0,
      "outputs": []
    },
    {
      "cell_type": "code",
      "metadata": {
        "id": "2DmZnXKe_u6m",
        "colab_type": "code",
        "colab": {
          "base_uri": "https://localhost:8080/",
          "height": 35
        },
        "outputId": "5394d69c-8e1f-47de-88d3-3f838f9e95ca"
      },
      "source": [
        "x_train.shape"
      ],
      "execution_count": 25,
      "outputs": [
        {
          "output_type": "execute_result",
          "data": {
            "text/plain": [
              "(48000, 28, 28, 1)"
            ]
          },
          "metadata": {
            "tags": []
          },
          "execution_count": 25
        }
      ]
    },
    {
      "cell_type": "code",
      "metadata": {
        "id": "doo0B1li_v5s",
        "colab_type": "code",
        "colab": {}
      },
      "source": [
        "x_train=x_train/255.0\n",
        "x_val=x_val/255.0"
      ],
      "execution_count": 0,
      "outputs": []
    },
    {
      "cell_type": "code",
      "metadata": {
        "id": "Xd3kWDwQ_x-F",
        "colab_type": "code",
        "colab": {
          "base_uri": "https://localhost:8080/",
          "height": 405
        },
        "outputId": "fb97da19-4806-4f4d-c40a-755eb0980cf2"
      },
      "source": [
        "cn=ConvolutionNetwork(n_kernels=10,units=10,batch_size=128,learning_rate=0.01)\n",
        "cn.fit(x_train,y_train_encoded,x_val=x_val,y_val=y_val_encoded,epochs=20)"
      ],
      "execution_count": 27,
      "outputs": [
        {
          "output_type": "stream",
          "text": [
            "에포크 0 .......................................................................................................................................................................................................................................................................................................................................................................................\n",
            "에포크 1 .......................................................................................................................................................................................................................................................................................................................................................................................\n",
            "에포크 2 .......................................................................................................................................................................................................................................................................................................................................................................................\n",
            "에포크 3 .......................................................................................................................................................................................................................................................................................................................................................................................\n",
            "에포크 4 .......................................................................................................................................................................................................................................................................................................................................................................................\n",
            "에포크 5 .......................................................................................................................................................................................................................................................................................................................................................................................\n",
            "에포크 6 .......................................................................................................................................................................................................................................................................................................................................................................................\n",
            "에포크 7 .......................................................................................................................................................................................................................................................................................................................................................................................\n",
            "에포크 8 .......................................................................................................................................................................................................................................................................................................................................................................................\n",
            "에포크 9 .......................................................................................................................................................................................................................................................................................................................................................................................\n",
            "에포크 10 .......................................................................................................................................................................................................................................................................................................................................................................................\n",
            "에포크 11 .......................................................................................................................................................................................................................................................................................................................................................................................\n",
            "에포크 12 .......................................................................................................................................................................................................................................................................................................................................................................................\n",
            "에포크 13 .......................................................................................................................................................................................................................................................................................................................................................................................\n",
            "에포크 14 .......................................................................................................................................................................................................................................................................................................................................................................................\n",
            "에포크 15 .......................................................................................................................................................................................................................................................................................................................................................................................\n",
            "에포크 16 .......................................................................................................................................................................................................................................................................................................................................................................................\n",
            "에포크 17 .......................................................................................................................................................................................................................................................................................................................................................................................\n",
            "에포크 18 .......................................................................................................................................................................................................................................................................................................................................................................................\n",
            "에포크 19 .......................................................................................................................................................................................................................................................................................................................................................................................\n"
          ],
          "name": "stdout"
        }
      ]
    },
    {
      "cell_type": "code",
      "metadata": {
        "id": "0jG2GdyX_zcl",
        "colab_type": "code",
        "colab": {
          "base_uri": "https://localhost:8080/",
          "height": 279
        },
        "outputId": "c9d019f5-eef2-4278-c6ed-96c5adaafd7f"
      },
      "source": [
        "import matplotlib.pyplot as plt\n",
        "\n",
        "plt.plot(cn.losses)\n",
        "plt.plot(cn.val_losses)\n",
        "plt.ylabel('loss')\n",
        "plt.xlabel('iteration')\n",
        "plt.legend(['train_loss','val_loss'])\n",
        "plt.show()"
      ],
      "execution_count": 28,
      "outputs": [
        {
          "output_type": "display_data",
          "data": {
            "image/png": "[encoded data removed]",
            "text/plain": [
              "<Figure size 432x288 with 1 Axes>"
            ]
          },
          "metadata": {
            "tags": []
          }
        }
      ]
    },
    {
      "cell_type": "code",
      "metadata": {
        "id": "DsODpWAmAMs9",
        "colab_type": "code",
        "colab": {
          "base_uri": "https://localhost:8080/",
          "height": 35
        },
        "outputId": "3a1e9115-d769-4f8e-fa0d-e3df5cab8a4f"
      },
      "source": [
        "# 7강의 맨마지막 코드와 비교\n",
        "cn.score(x_val,y_val_encoded)"
      ],
      "execution_count": 29,
      "outputs": [
        {
          "output_type": "execute_result",
          "data": {
            "text/plain": [
              "0.861"
            ]
          },
          "metadata": {
            "tags": []
          },
          "execution_count": 29
        }
      ]
    },
    {
      "cell_type": "code",
      "metadata": {
        "id": "bQjdRMbtAOMr",
        "colab_type": "code",
        "colab": {}
      },
      "source": [
        "# keras로 합성곱 층 만들기\n",
        "from tensorflow.keras.layers import Conv2D,MaxPooling2D,Flatten,Dense\n",
        "\n",
        "conv1=tf.keras.Sequential()\n",
        "conv1.add(Conv2D(10,(3,3),activation='relu',padding='same',input_shape=(28,28,1)))\n",
        "conv1.add(MaxPooling2D((2,2)))\n",
        "conv1.add(Flatten())\n",
        "conv1.add(Dense(100,activation='relu'))\n",
        "conv1.add(Dense(10,activation='softmax'))"
      ],
      "execution_count": 0,
      "outputs": []
    },
    {
      "cell_type": "code",
      "metadata": {
        "id": "clqby6_tAbxY",
        "colab_type": "code",
        "colab": {
          "base_uri": "https://localhost:8080/",
          "height": 348
        },
        "outputId": "87348955-5268-45b2-b924-6e219f05ab0c"
      },
      "source": [
        "# conv1의 구조를 볼 수 있는 명령어\n",
        "conv1.summary()"
      ],
      "execution_count": 31,
      "outputs": [
        {
          "output_type": "stream",
          "text": [
            "Model: \"sequential\"\n",
            "_________________________________________________________________\n",
            "Layer (type)                 Output Shape              Param #   \n",
            "=================================================================\n",
            "conv2d (Conv2D)              (None, 28, 28, 10)        100       \n",
            "_________________________________________________________________\n",
            "max_pooling2d (MaxPooling2D) (None, 14, 14, 10)        0         \n",
            "_________________________________________________________________\n",
            "flatten (Flatten)            (None, 1960)              0         \n",
            "_________________________________________________________________\n",
            "dense (Dense)                (None, 100)               196100    \n",
            "_________________________________________________________________\n",
            "dense_1 (Dense)              (None, 10)                1010      \n",
            "=================================================================\n",
            "Total params: 197,210\n",
            "Trainable params: 197,210\n",
            "Non-trainable params: 0\n",
            "_________________________________________________________________\n"
          ],
          "name": "stdout"
        }
      ]
    },
    {
      "cell_type": "code",
      "metadata": {
        "id": "biuLDlXrAhnF",
        "colab_type": "code",
        "colab": {}
      },
      "source": [
        "conv1.compile(optimizer='adam',loss='categorical_crossentropy',metrics=['accuracy'])"
      ],
      "execution_count": 0,
      "outputs": []
    },
    {
      "cell_type": "code",
      "metadata": {
        "id": "eTrornXFAlUB",
        "colab_type": "code",
        "colab": {
          "base_uri": "https://localhost:8080/",
          "height": 771
        },
        "outputId": "ef15f930-c9a7-4baf-8cb3-ba57ee9e52a3"
      },
      "source": [
        "history=conv1.fit(x_train,y_train_encoded,epochs=20,validation_data=(x_val,y_val_encoded))"
      ],
      "execution_count": 33,
      "outputs": [
        {
          "output_type": "stream",
          "text": [
            "Train on 48000 samples, validate on 12000 samples\n",
            "Epoch 1/20\n",
            "48000/48000 [==============================] - 25s 523us/sample - loss: 0.4460 - accuracy: 0.8421 - val_loss: 0.3271 - val_accuracy: 0.8848\n",
            "Epoch 2/20\n",
            "48000/48000 [==============================] - 24s 507us/sample - loss: 0.3058 - accuracy: 0.8914 - val_loss: 0.2925 - val_accuracy: 0.8936\n",
            "Epoch 3/20\n",
            "48000/48000 [==============================] - 24s 508us/sample - loss: 0.2649 - accuracy: 0.9030 - val_loss: 0.2713 - val_accuracy: 0.9016\n",
            "Epoch 4/20\n",
            "48000/48000 [==============================] - 28s 586us/sample - loss: 0.2340 - accuracy: 0.9134 - val_loss: 0.2514 - val_accuracy: 0.9091\n",
            "Epoch 5/20\n",
            "48000/48000 [==============================] - 32s 659us/sample - loss: 0.2115 - accuracy: 0.9215 - val_loss: 0.2452 - val_accuracy: 0.9133\n",
            "Epoch 6/20\n",
            "48000/48000 [==============================] - 31s 654us/sample - loss: 0.1880 - accuracy: 0.9309 - val_loss: 0.2505 - val_accuracy: 0.9119\n",
            "Epoch 7/20\n",
            "48000/48000 [==============================] - 31s 655us/sample - loss: 0.1699 - accuracy: 0.9374 - val_loss: 0.2414 - val_accuracy: 0.9136\n",
            "Epoch 8/20\n",
            "48000/48000 [==============================] - 31s 654us/sample - loss: 0.1527 - accuracy: 0.9440 - val_loss: 0.2434 - val_accuracy: 0.9197\n",
            "Epoch 9/20\n",
            "48000/48000 [==============================] - 32s 667us/sample - loss: 0.1368 - accuracy: 0.9496 - val_loss: 0.2521 - val_accuracy: 0.9161\n",
            "Epoch 10/20\n",
            "48000/48000 [==============================] - 31s 656us/sample - loss: 0.1230 - accuracy: 0.9554 - val_loss: 0.2472 - val_accuracy: 0.9184\n",
            "Epoch 11/20\n",
            "48000/48000 [==============================] - 32s 658us/sample - loss: 0.1115 - accuracy: 0.9589 - val_loss: 0.2541 - val_accuracy: 0.9205\n",
            "Epoch 12/20\n",
            "48000/48000 [==============================] - 32s 662us/sample - loss: 0.0994 - accuracy: 0.9641 - val_loss: 0.2735 - val_accuracy: 0.9172\n",
            "Epoch 13/20\n",
            "48000/48000 [==============================] - 32s 661us/sample - loss: 0.0866 - accuracy: 0.9684 - val_loss: 0.2741 - val_accuracy: 0.9186\n",
            "Epoch 14/20\n",
            "48000/48000 [==============================] - 32s 667us/sample - loss: 0.0780 - accuracy: 0.9719 - val_loss: 0.3100 - val_accuracy: 0.9153\n",
            "Epoch 15/20\n",
            "48000/48000 [==============================] - 32s 666us/sample - loss: 0.0701 - accuracy: 0.9743 - val_loss: 0.2983 - val_accuracy: 0.9192\n",
            "Epoch 16/20\n",
            "48000/48000 [==============================] - 32s 660us/sample - loss: 0.0615 - accuracy: 0.9785 - val_loss: 0.3142 - val_accuracy: 0.9188\n",
            "Epoch 17/20\n",
            "48000/48000 [==============================] - 33s 687us/sample - loss: 0.0544 - accuracy: 0.9812 - val_loss: 0.3336 - val_accuracy: 0.9201\n",
            "Epoch 18/20\n",
            "48000/48000 [==============================] - 33s 694us/sample - loss: 0.0501 - accuracy: 0.9822 - val_loss: 0.3942 - val_accuracy: 0.9058\n",
            "Epoch 19/20\n",
            "48000/48000 [==============================] - 40s 827us/sample - loss: 0.0459 - accuracy: 0.9834 - val_loss: 0.3573 - val_accuracy: 0.9193\n",
            "Epoch 20/20\n",
            "48000/48000 [==============================] - 32s 675us/sample - loss: 0.0384 - accuracy: 0.9868 - val_loss: 0.3829 - val_accuracy: 0.9171\n"
          ],
          "name": "stdout"
        }
      ]
    },
    {
      "cell_type": "code",
      "metadata": {
        "id": "J_HLEv1DAqJ3",
        "colab_type": "code",
        "colab": {
          "base_uri": "https://localhost:8080/",
          "height": 279
        },
        "outputId": "92bf33e0-df0a-4ba5-8c06-8533f5b8ca5b"
      },
      "source": [
        "plt.plot(history.history['loss'])\n",
        "plt.plot(history.history['val_loss'])\n",
        "plt.ylabel('loss')\n",
        "plt.xlabel('epoch')\n",
        "plt.legend(['train_loss', 'val_loss'])\n",
        "plt.show()\n",
        "# overfitting이 되었음을 알 수 있음"
      ],
      "execution_count": 34,
      "outputs": [
        {
          "output_type": "display_data",
          "data": {
            "image/png": "[encoded data removed]",
            "text/plain": [
              "<Figure size 432x288 with 1 Axes>"
            ]
          },
          "metadata": {
            "tags": []
          }
        }
      ]
    },
    {
      "cell_type": "code",
      "metadata": {
        "id": "u0HbwzzvAsQa",
        "colab_type": "code",
        "colab": {
          "base_uri": "https://localhost:8080/",
          "height": 279
        },
        "outputId": "8bc61706-5956-4b40-f81d-9881482ea636"
      },
      "source": [
        "plt.plot(history.history['accuracy'])\n",
        "plt.plot(history.history['val_accuracy'])\n",
        "plt.ylabel('loss')\n",
        "plt.xlabel('epoch')\n",
        "plt.legend(['train_accuracy', 'val_accuracy'])\n",
        "plt.show()"
      ],
      "execution_count": 35,
      "outputs": [
        {
          "output_type": "display_data",
          "data": {
            "image/png": "[encoded data removed]",
            "text/plain": [
              "<Figure size 432x288 with 1 Axes>"
            ]
          },
          "metadata": {
            "tags": []
          }
        }
      ]
    },
    {
      "cell_type": "code",
      "metadata": {
        "id": "KFx9o436AtJG",
        "colab_type": "code",
        "colab": {}
      },
      "source": [
        "# 위의 overfitting현상을 막기 위한 dropout\n",
        "from tensorflow.keras.layers import Dropout\n",
        "\n",
        "conv2=tf.keras.Sequential()\n",
        "conv2.add(Conv2D(10,(3,3),activation='relu',padding='same',input_shape=(28,28,1)))\n",
        "conv2.add(MaxPooling2D(2,2))\n",
        "conv2.add(Flatten())\n",
        "conv2.add(Dropout(0.5))\n",
        "conv2.add(Dense(100,activation='relu'))\n",
        "conv2.add(Dense(10,activation='softmax'))"
      ],
      "execution_count": 0,
      "outputs": []
    },
    {
      "cell_type": "code",
      "metadata": {
        "id": "rzLnU8FbA6Je",
        "colab_type": "code",
        "colab": {
          "base_uri": "https://localhost:8080/",
          "height": 385
        },
        "outputId": "070a545e-300b-4024-c228-0713a4e59ac6"
      },
      "source": [
        "conv2.summary()"
      ],
      "execution_count": 37,
      "outputs": [
        {
          "output_type": "stream",
          "text": [
            "Model: \"sequential_1\"\n",
            "_________________________________________________________________\n",
            "Layer (type)                 Output Shape              Param #   \n",
            "=================================================================\n",
            "conv2d_1 (Conv2D)            (None, 28, 28, 10)        100       \n",
            "_________________________________________________________________\n",
            "max_pooling2d_1 (MaxPooling2 (None, 14, 14, 10)        0         \n",
            "_________________________________________________________________\n",
            "flatten_1 (Flatten)          (None, 1960)              0         \n",
            "_________________________________________________________________\n",
            "dropout (Dropout)            (None, 1960)              0         \n",
            "_________________________________________________________________\n",
            "dense_2 (Dense)              (None, 100)               196100    \n",
            "_________________________________________________________________\n",
            "dense_3 (Dense)              (None, 10)                1010      \n",
            "=================================================================\n",
            "Total params: 197,210\n",
            "Trainable params: 197,210\n",
            "Non-trainable params: 0\n",
            "_________________________________________________________________\n"
          ],
          "name": "stdout"
        }
      ]
    },
    {
      "cell_type": "code",
      "metadata": {
        "id": "sb6QRD03A7MX",
        "colab_type": "code",
        "colab": {
          "base_uri": "https://localhost:8080/",
          "height": 771
        },
        "outputId": "8e4306c3-8829-4000-ccce-10ea92656be6"
      },
      "source": [
        "conv2.compile(optimizers='adam',loss='categorical_crossentropy',metrics=['accuracy'])\n",
        "\n",
        "history=conv2.fit(x_train,y_train_encoded,epochs=20,validation_data=(x_val,y_val_encoded))"
      ],
      "execution_count": 38,
      "outputs": [
        {
          "output_type": "stream",
          "text": [
            "Train on 48000 samples, validate on 12000 samples\n",
            "Epoch 1/20\n",
            "48000/48000 [==============================] - 41s 844us/sample - loss: 0.5014 - accuracy: 0.8210 - val_loss: 0.3644 - val_accuracy: 0.8701\n",
            "Epoch 2/20\n",
            "48000/48000 [==============================] - 39s 815us/sample - loss: 0.3793 - accuracy: 0.8630 - val_loss: 0.3207 - val_accuracy: 0.8850\n",
            "Epoch 3/20\n",
            "48000/48000 [==============================] - 39s 805us/sample - loss: 0.3446 - accuracy: 0.8757 - val_loss: 0.2982 - val_accuracy: 0.8943\n",
            "Epoch 4/20\n",
            "48000/48000 [==============================] - 43s 890us/sample - loss: 0.3244 - accuracy: 0.8840 - val_loss: 0.2928 - val_accuracy: 0.8927\n",
            "Epoch 5/20\n",
            "48000/48000 [==============================] - 42s 865us/sample - loss: 0.3165 - accuracy: 0.8869 - val_loss: 0.2800 - val_accuracy: 0.9017\n",
            "Epoch 6/20\n",
            "48000/48000 [==============================] - 44s 917us/sample - loss: 0.3059 - accuracy: 0.8905 - val_loss: 0.2712 - val_accuracy: 0.9060\n",
            "Epoch 7/20\n",
            "48000/48000 [==============================] - 39s 813us/sample - loss: 0.3014 - accuracy: 0.8932 - val_loss: 0.2686 - val_accuracy: 0.9046\n",
            "Epoch 8/20\n",
            "48000/48000 [==============================] - 40s 825us/sample - loss: 0.2966 - accuracy: 0.8945 - val_loss: 0.2654 - val_accuracy: 0.9072\n",
            "Epoch 9/20\n",
            "48000/48000 [==============================] - 43s 904us/sample - loss: 0.2923 - accuracy: 0.8966 - val_loss: 0.2731 - val_accuracy: 0.9038\n",
            "Epoch 10/20\n",
            "48000/48000 [==============================] - 41s 847us/sample - loss: 0.2900 - accuracy: 0.8976 - val_loss: 0.2666 - val_accuracy: 0.9069\n",
            "Epoch 11/20\n",
            "48000/48000 [==============================] - 38s 793us/sample - loss: 0.2896 - accuracy: 0.8971 - val_loss: 0.2736 - val_accuracy: 0.9048\n",
            "Epoch 12/20\n",
            "48000/48000 [==============================] - 37s 774us/sample - loss: 0.2844 - accuracy: 0.8999 - val_loss: 0.2664 - val_accuracy: 0.9059\n",
            "Epoch 13/20\n",
            "48000/48000 [==============================] - 39s 815us/sample - loss: 0.2820 - accuracy: 0.9012 - val_loss: 0.2696 - val_accuracy: 0.9043\n",
            "Epoch 14/20\n",
            "48000/48000 [==============================] - 46s 967us/sample - loss: 0.2833 - accuracy: 0.9004 - val_loss: 0.2585 - val_accuracy: 0.9115\n",
            "Epoch 15/20\n",
            "48000/48000 [==============================] - 41s 851us/sample - loss: 0.2806 - accuracy: 0.9017 - val_loss: 0.2681 - val_accuracy: 0.9076\n",
            "Epoch 16/20\n",
            "48000/48000 [==============================] - 38s 783us/sample - loss: 0.2812 - accuracy: 0.9004 - val_loss: 0.2592 - val_accuracy: 0.9097\n",
            "Epoch 17/20\n",
            "48000/48000 [==============================] - 41s 856us/sample - loss: 0.2818 - accuracy: 0.9011 - val_loss: 0.2808 - val_accuracy: 0.9057\n",
            "Epoch 18/20\n",
            "48000/48000 [==============================] - 40s 832us/sample - loss: 0.2794 - accuracy: 0.9027 - val_loss: 0.2610 - val_accuracy: 0.9106\n",
            "Epoch 19/20\n",
            "48000/48000 [==============================] - 41s 858us/sample - loss: 0.2812 - accuracy: 0.9020 - val_loss: 0.2615 - val_accuracy: 0.9097\n",
            "Epoch 20/20\n",
            "48000/48000 [==============================] - 38s 788us/sample - loss: 0.2794 - accuracy: 0.9021 - val_loss: 0.2632 - val_accuracy: 0.9111\n"
          ],
          "name": "stdout"
        }
      ]
    },
    {
      "cell_type": "code",
      "metadata": {
        "id": "r2faxdgTA9CO",
        "colab_type": "code",
        "colab": {
          "base_uri": "https://localhost:8080/",
          "height": 279
        },
        "outputId": "7bfc5524-511a-4d97-bd4b-d3fa196ae016"
      },
      "source": [
        "plt.plot(history.history['loss'])\n",
        "plt.plot(history.history['val_loss'])\n",
        "plt.ylabel('loss')\n",
        "plt.xlabel('epoch')\n",
        "plt.legend(['train_loss', 'val_loss'])\n",
        "plt.show()"
      ],
      "execution_count": 39,
      "outputs": [
        {
          "output_type": "display_data",
          "data": {
            "image/png": "[encoded data removed]",
            "text/plain": [
              "<Figure size 432x288 with 1 Axes>"
            ]
          },
          "metadata": {
            "tags": []
          }
        }
      ]
    },
    {
      "cell_type": "code",
      "metadata": {
        "id": "skZcasdnA_5y",
        "colab_type": "code",
        "colab": {
          "base_uri": "https://localhost:8080/",
          "height": 279
        },
        "outputId": "3d04d5fe-5fad-479a-c8b0-2faba252e26d"
      },
      "source": [
        "plt.plot(history.history['accuracy'])\n",
        "plt.plot(history.history['val_accuracy'])\n",
        "plt.ylabel('loss')\n",
        "plt.xlabel('epoch')\n",
        "plt.legend(['train_accuracy', 'val_accuracy'])\n",
        "plt.show()"
      ],
      "execution_count": 40,
      "outputs": [
        {
          "output_type": "display_data",
          "data": {
            "image/png": "[encoded data removed]",
            "text/plain": [
              "<Figure size 432x288 with 1 Axes>"
            ]
          },
          "metadata": {
            "tags": []
          }
        }
      ]
    },
    {
      "cell_type": "code",
      "metadata": {
        "id": "XAQ6QcLiBCaa",
        "colab_type": "code",
        "colab": {}
      },
      "source": [
        "loss, accuracy = conv2.evaluate(x_val, y_val_encoded, verbose=0)"
      ],
      "execution_count": 0,
      "outputs": []
    },
    {
      "cell_type": "code",
      "metadata": {
        "id": "HVMiZdZiBDuU",
        "colab_type": "code",
        "colab": {
          "base_uri": "https://localhost:8080/",
          "height": 35
        },
        "outputId": "26a57af8-6257-4787-f3c3-3b6da7d2d05b"
      },
      "source": [
        "print(accuracy)"
      ],
      "execution_count": 42,
      "outputs": [
        {
          "output_type": "stream",
          "text": [
            "0.91108334\n"
          ],
          "name": "stdout"
        }
      ]
    }
  ]
}
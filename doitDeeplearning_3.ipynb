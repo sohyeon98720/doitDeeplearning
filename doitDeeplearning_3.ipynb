{
  "nbformat": 4,
  "nbformat_minor": 0,
  "metadata": {
    "colab": {
      "name": "doitDeeplearning_3.ipynb",
      "provenance": [],
      "authorship_tag": "ABX9TyNbbKcxm42tajuna9XxDji9",
      "include_colab_link": true
    },
    "kernelspec": {
      "name": "python3",
      "display_name": "Python 3"
    }
  },
  "cells": [
    {
      "cell_type": "markdown",
      "metadata": {
        "id": "view-in-github",
        "colab_type": "text"
      },
      "source": [
        "<a href=\"https://colab.research.google.com/github/sohyeon98720/doitDeeplearning/blob/master/doitDeeplearning_3.ipynb\" target=\"_parent\"><img src=\"https://colab.research.google.com/assets/colab-badge.svg\" alt=\"Open In Colab\"/></a>"
      ]
    },
    {
      "cell_type": "code",
      "metadata": {
        "id": "rZwAbXnruESk",
        "colab_type": "code",
        "colab": {}
      },
      "source": [
        "# 3강 선형회귀\n",
        "# 데이터셋 불러오기\n",
        "from sklearn.datasets import load_diabetes\n",
        "diabetes=load_diabetes()"
      ],
      "execution_count": 0,
      "outputs": []
    },
    {
      "cell_type": "code",
      "metadata": {
        "id": "9g8bOE9VuP4T",
        "colab_type": "code",
        "colab": {
          "base_uri": "https://localhost:8080/",
          "height": 35
        },
        "outputId": "f9be7cb7-12b8-409f-92a6-d51fd005dfdd"
      },
      "source": [
        "print (diabetes.data.shape,diabetes.target.shape)"
      ],
      "execution_count": 2,
      "outputs": [
        {
          "output_type": "stream",
          "text": [
            "(442, 10) (442,)\n"
          ],
          "name": "stdout"
        }
      ]
    },
    {
      "cell_type": "code",
      "metadata": {
        "id": "qy3MzSbZuRh3",
        "colab_type": "code",
        "colab": {
          "base_uri": "https://localhost:8080/",
          "height": 72
        },
        "outputId": "4ef73c65-ed6a-43d8-940f-097fb916da9b"
      },
      "source": [
        "print (diabetes.data[0])\n",
        "print (diabetes.target[0:5])"
      ],
      "execution_count": 3,
      "outputs": [
        {
          "output_type": "stream",
          "text": [
            "[ 0.03807591  0.05068012  0.06169621  0.02187235 -0.0442235  -0.03482076\n",
            " -0.04340085 -0.00259226  0.01990842 -0.01764613]\n",
            "[151.  75. 141. 206. 135.]\n"
          ],
          "name": "stdout"
        }
      ]
    },
    {
      "cell_type": "code",
      "metadata": {
        "id": "ITOzXFgSuWKg",
        "colab_type": "code",
        "colab": {
          "base_uri": "https://localhost:8080/",
          "height": 279
        },
        "outputId": "f56a021c-fd74-430e-a57e-acc2c1d638e8"
      },
      "source": [
        "# 그래프를 그려 데이터분포 살펴보기\n",
        "import matplotlib.pyplot as plt\n",
        "plt.scatter(diabetes.data[:,2],diabetes.target)\n",
        "plt.xlabel('data')\n",
        "plt.ylabel('target')\n",
        "plt.show()"
      ],
      "execution_count": 4,
      "outputs": [
        {
          "output_type": "display_data",
          "data": {
            "image/png": "[encoded data removed]",
            "text/plain": [
              "<Figure size 432x288 with 1 Axes>"
            ]
          },
          "metadata": {
            "tags": []
          }
        }
      ]
    },
    {
      "cell_type": "code",
      "metadata": {
        "id": "2IG8_m2QuZbb",
        "colab_type": "code",
        "colab": {}
      },
      "source": [
        "x=diabetes.data[:,2]\n",
        "y=diabetes.target"
      ],
      "execution_count": 0,
      "outputs": []
    },
    {
      "cell_type": "code",
      "metadata": {
        "id": "b1pAyrUtubF6",
        "colab_type": "code",
        "colab": {}
      },
      "source": [
        "# 초기 가중치와 절편 값 설정\n",
        "w=1.0\n",
        "b=1.0"
      ],
      "execution_count": 0,
      "outputs": []
    },
    {
      "cell_type": "code",
      "metadata": {
        "id": "kY8x7CiZucMg",
        "colab_type": "code",
        "colab": {
          "base_uri": "https://localhost:8080/",
          "height": 35
        },
        "outputId": "65ec1cc5-389d-41c3-e8bc-39121b627b18"
      },
      "source": [
        "y_hat=x[0]*w+b\n",
        "# 내가 예측한 target 의 값\n",
        "print (y_hat)"
      ],
      "execution_count": 7,
      "outputs": [
        {
          "output_type": "stream",
          "text": [
            "1.0616962065186886\n"
          ],
          "name": "stdout"
        }
      ]
    },
    {
      "cell_type": "code",
      "metadata": {
        "id": "ZvmUainpudPG",
        "colab_type": "code",
        "colab": {
          "base_uri": "https://localhost:8080/",
          "height": 35
        },
        "outputId": "4d1505fc-2697-462c-f7d1-4a231188fd5c"
      },
      "source": [
        "# target 의 값\n",
        "print(y[0])"
      ],
      "execution_count": 8,
      "outputs": [
        {
          "output_type": "stream",
          "text": [
            "151.0\n"
          ],
          "name": "stdout"
        }
      ]
    },
    {
      "cell_type": "code",
      "metadata": {
        "id": "yVCp1jBiujsT",
        "colab_type": "code",
        "colab": {
          "base_uri": "https://localhost:8080/",
          "height": 35
        },
        "outputId": "dc034018-ad1f-42e4-de31-9e5a64c0bfcf"
      },
      "source": [
        "# 실제값과 예측값의 차이\n",
        "print(y_hat-y[0])"
      ],
      "execution_count": 9,
      "outputs": [
        {
          "output_type": "stream",
          "text": [
            "-149.9383037934813\n"
          ],
          "name": "stdout"
        }
      ]
    },
    {
      "cell_type": "code",
      "metadata": {
        "id": "JEU8MHSxuqz_",
        "colab_type": "code",
        "colab": {
          "base_uri": "https://localhost:8080/",
          "height": 35
        },
        "outputId": "dff236d4-97fd-4fec-fad7-6f92ccd05e37"
      },
      "source": [
        "# 가중치 갱신\n",
        "w_inc=w+0.1\n",
        "y_hat_inc=x[0]*w_inc+b\n",
        "print(y_hat_inc)"
      ],
      "execution_count": 10,
      "outputs": [
        {
          "output_type": "stream",
          "text": [
            "1.0678658271705574\n"
          ],
          "name": "stdout"
        }
      ]
    },
    {
      "cell_type": "code",
      "metadata": {
        "id": "2F4quOW0utZ3",
        "colab_type": "code",
        "colab": {
          "base_uri": "https://localhost:8080/",
          "height": 35
        },
        "outputId": "3b91f7ac-2b26-4768-8ab5-88bef927d124"
      },
      "source": [
        "# 갱신된 가중치로 구한 예측값과 실제값의 차이\n",
        "print(y_hat_inc-y[0])"
      ],
      "execution_count": 11,
      "outputs": [
        {
          "output_type": "stream",
          "text": [
            "-149.93213417282945\n"
          ],
          "name": "stdout"
        }
      ]
    },
    {
      "cell_type": "code",
      "metadata": {
        "id": "BLT4XZE9uyf7",
        "colab_type": "code",
        "colab": {
          "base_uri": "https://localhost:8080/",
          "height": 35
        },
        "outputId": "859f8fa6-fd2e-4a7b-87bc-a43fcf537a08"
      },
      "source": [
        "#기울기(얼마나 증가했는지 정도)\n",
        "w_rate=(y_hat_inc-y_hat)/(w_inc-w)\n",
        "print(w_rate)"
      ],
      "execution_count": 12,
      "outputs": [
        {
          "output_type": "stream",
          "text": [
            "0.061696206518688734\n"
          ],
          "name": "stdout"
        }
      ]
    },
    {
      "cell_type": "code",
      "metadata": {
        "id": "b679dXDXu4bM",
        "colab_type": "code",
        "colab": {
          "base_uri": "https://localhost:8080/",
          "height": 35
        },
        "outputId": "6a2cbffd-ed2e-4bc8-df0a-b69af843dba8"
      },
      "source": [
        "#위의 값과 같음을 알 수 있음\n",
        "print (x[0])"
      ],
      "execution_count": 13,
      "outputs": [
        {
          "output_type": "stream",
          "text": [
            "0.0616962065186885\n"
          ],
          "name": "stdout"
        }
      ]
    },
    {
      "cell_type": "code",
      "metadata": {
        "id": "tpBhzG97u53c",
        "colab_type": "code",
        "colab": {
          "base_uri": "https://localhost:8080/",
          "height": 35
        },
        "outputId": "f8bc7f67-9770-4fe5-e20c-612bddf545b7"
      },
      "source": [
        "w_new=w+w_rate\n",
        "print(w_new)"
      ],
      "execution_count": 14,
      "outputs": [
        {
          "output_type": "stream",
          "text": [
            "1.0616962065186888\n"
          ],
          "name": "stdout"
        }
      ]
    },
    {
      "cell_type": "code",
      "metadata": {
        "id": "D3vcmvdXu9al",
        "colab_type": "code",
        "colab": {
          "base_uri": "https://localhost:8080/",
          "height": 35
        },
        "outputId": "771341ac-caee-48c5-b19f-cc9c43342e58"
      },
      "source": [
        "# 절편 갱신\n",
        "b_inc=b+0.1\n",
        "y_hat_inc=x[0]*w+b_inc\n",
        "print(y_hat_inc)"
      ],
      "execution_count": 15,
      "outputs": [
        {
          "output_type": "stream",
          "text": [
            "1.1616962065186887\n"
          ],
          "name": "stdout"
        }
      ]
    },
    {
      "cell_type": "code",
      "metadata": {
        "id": "UzVoI4isvAx8",
        "colab_type": "code",
        "colab": {
          "base_uri": "https://localhost:8080/",
          "height": 35
        },
        "outputId": "5027e341-36c6-441b-eb62-6b3e6e6e289e"
      },
      "source": [
        "# 절편또한 기울기가 기존 b의 값과 값이 같음을 알 수 있음\n",
        "b_rate=(y_hat_inc-y_hat)/(b_inc-b)\n",
        "print(b_rate)"
      ],
      "execution_count": 16,
      "outputs": [
        {
          "output_type": "stream",
          "text": [
            "1.0\n"
          ],
          "name": "stdout"
        }
      ]
    },
    {
      "cell_type": "code",
      "metadata": {
        "id": "qHMe13jYvHgD",
        "colab_type": "code",
        "colab": {
          "base_uri": "https://localhost:8080/",
          "height": 35
        },
        "outputId": "53d94d0d-ed02-425c-9171-b88646be1528"
      },
      "source": [
        "b_new=b+1\n",
        "print(b_new)"
      ],
      "execution_count": 17,
      "outputs": [
        {
          "output_type": "stream",
          "text": [
            "2.0\n"
          ],
          "name": "stdout"
        }
      ]
    },
    {
      "cell_type": "code",
      "metadata": {
        "id": "JT8jYY2VvJ5P",
        "colab_type": "code",
        "colab": {
          "base_uri": "https://localhost:8080/",
          "height": 35
        },
        "outputId": "41888af1-8ab4-4830-8a20-6e057ddd1525"
      },
      "source": [
        "# 첫번째샘플가지고 오차구하기 -> 갱신\n",
        "err=y[0]-y_hat\n",
        "w_new=w+w_rate*err\n",
        "b_new=b+1*err\n",
        "print(w_new,b_new)"
      ],
      "execution_count": 18,
      "outputs": [
        {
          "output_type": "stream",
          "text": [
            "10.250624555904514 150.9383037934813\n"
          ],
          "name": "stdout"
        }
      ]
    },
    {
      "cell_type": "code",
      "metadata": {
        "id": "3oncf3HtvLRb",
        "colab_type": "code",
        "colab": {
          "base_uri": "https://localhost:8080/",
          "height": 35
        },
        "outputId": "bdf6080a-b366-46e1-c10e-5a8c0e574eb9"
      },
      "source": [
        "# 두번째샘플가지고 오차구하기 -> 갱신\n",
        "y_hat=x[1]*w_new+b_new\n",
        "err=y[1]-y_hat\n",
        "w_rate=x[1]\n",
        "w_new=w_new+w_rate*err\n",
        "b_new=b_new+1*err\n",
        "print(w_new,b_new)"
      ],
      "execution_count": 19,
      "outputs": [
        {
          "output_type": "stream",
          "text": [
            "14.132317616381767 75.52764127612664\n"
          ],
          "name": "stdout"
        }
      ]
    },
    {
      "cell_type": "code",
      "metadata": {
        "id": "qXFUF8YPvMf_",
        "colab_type": "code",
        "colab": {
          "base_uri": "https://localhost:8080/",
          "height": 35
        },
        "outputId": "98ed933c-a07c-4368-9aa7-358f46c65156"
      },
      "source": [
        "# 전체 샘플 반복\n",
        "for x_i,y_i in zip(x,y):\n",
        "  y_hat=x_i*w+b\n",
        "  err=y_i-y_hat\n",
        "  w_rate=x_i\n",
        "  w=w+w_rate*err\n",
        "  b=b+1*err\n",
        "print(w,b)"
      ],
      "execution_count": 20,
      "outputs": [
        {
          "output_type": "stream",
          "text": [
            "587.8654539985689 99.40935564531424\n"
          ],
          "name": "stdout"
        }
      ]
    },
    {
      "cell_type": "code",
      "metadata": {
        "id": "WetcNZ8qvNuR",
        "colab_type": "code",
        "colab": {
          "base_uri": "https://localhost:8080/",
          "height": 279
        },
        "outputId": "cf198978-13ed-438c-aabc-d39d6ec8b633"
      },
      "source": [
        "# w,b로 직선의 방정식 그리기\n",
        "plt.scatter(x,y)\n",
        "pt1=(-0.1,-0.1*w+b)\n",
        "pt2=(0.15,0.15*w+b)\n",
        "plt.plot([pt1[0],pt2[0]],[pt1[1],pt2[1]],'r-')\n",
        "plt.xlabel('data')\n",
        "plt.ylabel('target')\n",
        "plt.show()\n",
        "# 결과는 꽝 -> 여러 에폭돌리면서 더 나은 직선식 구하기"
      ],
      "execution_count": 21,
      "outputs": [
        {
          "output_type": "display_data",
          "data": {
            "image/png": "[encoded data removed]",
            "text/plain": [
              "<Figure size 432x288 with 1 Axes>"
            ]
          },
          "metadata": {
            "tags": []
          }
        }
      ]
    },
    {
      "cell_type": "code",
      "metadata": {
        "id": "SxvWlMnvvPJz",
        "colab_type": "code",
        "colab": {
          "base_uri": "https://localhost:8080/",
          "height": 35
        },
        "outputId": "c9e35a2b-5141-480d-d259-43d2a5aac330"
      },
      "source": [
        "# 에폭100\n",
        "for i in range(1,100):\n",
        "  for x_i,y_i in zip(x,y):\n",
        "    y_hat=x_i*w+b\n",
        "    err=y_i-y_hat\n",
        "    w_rate=x_i\n",
        "    w=w+w_rate*err\n",
        "    b=b+1*err\n",
        "print(w,b)"
      ],
      "execution_count": 22,
      "outputs": [
        {
          "output_type": "stream",
          "text": [
            "913.5973364345905 123.39414383177204\n"
          ],
          "name": "stdout"
        }
      ]
    },
    {
      "cell_type": "code",
      "metadata": {
        "id": "DTtlYrbgvQ05",
        "colab_type": "code",
        "colab": {
          "base_uri": "https://localhost:8080/",
          "height": 279
        },
        "outputId": "4fe4557b-b8af-45d6-d1e1-3cd182333d6d"
      },
      "source": [
        "# w,b로 직선의 방정식 그리기\n",
        "plt.scatter(x,y)\n",
        "pt1=(-0.1,-0.1*w+b)\n",
        "pt2=(0.15,0.15*w+b)\n",
        "plt.plot([pt1[0],pt2[0]],[pt1[1],pt2[1]],'r-')\n",
        "plt.xlabel('data')\n",
        "plt.ylabel('target')\n",
        "plt.show()\n",
        "# 결과는 굳!"
      ],
      "execution_count": 23,
      "outputs": [
        {
          "output_type": "display_data",
          "data": {
            "image/png": "[encoded data removed]",
            "text/plain": [
              "<Figure size 432x288 with 1 Axes>"
            ]
          },
          "metadata": {
            "tags": []
          }
        }
      ]
    },
    {
      "cell_type": "code",
      "metadata": {
        "id": "ifMrE3ysvSHA",
        "colab_type": "code",
        "colab": {
          "base_uri": "https://localhost:8080/",
          "height": 35
        },
        "outputId": "1710c0f6-bead-497a-f493-22a0bf844b47"
      },
      "source": [
        "# 위에서 찾은 모델(직선의 방정식)으로 x=0.18일때의 값 예측\n",
        "x_new=0.18\n",
        "y_pred=x_new*w+b\n",
        "print(y_pred)"
      ],
      "execution_count": 24,
      "outputs": [
        {
          "output_type": "stream",
          "text": [
            "287.8416643899983\n"
          ],
          "name": "stdout"
        }
      ]
    },
    {
      "cell_type": "code",
      "metadata": {
        "id": "ReEeDr9XvTjj",
        "colab_type": "code",
        "colab": {
          "base_uri": "https://localhost:8080/",
          "height": 279
        },
        "outputId": "7947389a-488c-49cc-d327-4163ee0773e4"
      },
      "source": [
        "plt.scatter(x,y)\n",
        "plt.scatter(x_new,y_pred)\n",
        "plt.xlabel('data')\n",
        "plt.ylabel('target')\n",
        "plt.show()"
      ],
      "execution_count": 25,
      "outputs": [
        {
          "output_type": "display_data",
          "data": {
            "image/png": "[encoded data removed]",
            "text/plain": [
              "<Figure size 432x288 with 1 Axes>"
            ]
          },
          "metadata": {
            "tags": []
          }
        }
      ]
    },
    {
      "cell_type": "code",
      "metadata": {
        "id": "FpdadDDCvUn3",
        "colab_type": "code",
        "colab": {}
      },
      "source": [
        "#-------------------------"
      ],
      "execution_count": 0,
      "outputs": []
    },
    {
      "cell_type": "code",
      "metadata": {
        "id": "Q2Z9RzGmvYWC",
        "colab_type": "code",
        "colab": {}
      },
      "source": [
        "y_hat=x_i*w+b\n",
        "err=y_i-y_hat\n",
        "w_rate=x_i\n",
        "w=w+w_rate*err"
      ],
      "execution_count": 0,
      "outputs": []
    },
    {
      "cell_type": "code",
      "metadata": {
        "id": "AQBImwXZvYyG",
        "colab_type": "code",
        "colab": {}
      },
      "source": [
        "err=y_i-y_hat\n",
        "b=b+1*err"
      ],
      "execution_count": 0,
      "outputs": []
    },
    {
      "cell_type": "code",
      "metadata": {
        "id": "0rm1Rfn-vZ85",
        "colab_type": "code",
        "colab": {}
      },
      "source": [
        "# 함수화하기\n",
        "# __init__ : 가중치와 절편값 초기화\n",
        "def __init__(self):\n",
        "  self.w=1.0\n",
        "  self.b=1.0"
      ],
      "execution_count": 0,
      "outputs": []
    },
    {
      "cell_type": "code",
      "metadata": {
        "id": "18GfJx6Jvbez",
        "colab_type": "code",
        "colab": {}
      },
      "source": [
        "# forpass : 식에 따른 y예측값을 구함\n",
        "def forpass(self,x):\n",
        "  y_hat=x*self.w+self.b\n",
        "  return y_hat"
      ],
      "execution_count": 0,
      "outputs": []
    },
    {
      "cell_type": "code",
      "metadata": {
        "id": "POkUHtD4vcfz",
        "colab_type": "code",
        "colab": {}
      },
      "source": [
        "# backprop : 가중치와 절편을 갱신하기 위함\n",
        "def backprop(self,x,err):\n",
        "  w_grad=x*err\n",
        "  b_grad=1*err\n",
        "  return w_grad,b_grad"
      ],
      "execution_count": 0,
      "outputs": []
    },
    {
      "cell_type": "code",
      "metadata": {
        "id": "vzztdzRfvzqK",
        "colab_type": "code",
        "colab": {}
      },
      "source": [
        "# 위의 함수들을 클래스화 하기\n",
        "\n",
        "class Nueron:\n",
        "  def __init__(self):\n",
        "    self.w=1.0\n",
        "    self.b=1.0\n",
        "\n",
        "  def forpass(self,x):\n",
        "    y_hat=x*self.w+self.b\n",
        "    return y_hat\n",
        "\n",
        "  def backprop(self,x,err):\n",
        "    w_grad=x*err\n",
        "    b_grad=1*err\n",
        "    return w_grad,b_grad\n",
        "\n",
        "  def fit(self,x,y,epochs=100):\n",
        "    for i in range(epochs):\n",
        "      for x_i,y_i in zip(x,y):\n",
        "        y_hat=self.forpass(x_i)\n",
        "        err=-(y_i-y_hat)\n",
        "        w_grad,b_grad=self.backprop(x_i,err)\n",
        "        self.w-=w_grad\n",
        "        self.b-=b_grad"
      ],
      "execution_count": 0,
      "outputs": []
    },
    {
      "cell_type": "code",
      "metadata": {
        "id": "EsfBrGlEv0-a",
        "colab_type": "code",
        "colab": {}
      },
      "source": [
        "# 클래스의 객체를 생성하여 함수실행\n",
        "nueron=Nueron()\n",
        "nueron.fit(x,y)"
      ],
      "execution_count": 0,
      "outputs": []
    },
    {
      "cell_type": "code",
      "metadata": {
        "id": "zrU7Qyp8v4cI",
        "colab_type": "code",
        "colab": {
          "base_uri": "https://localhost:8080/",
          "height": 279
        },
        "outputId": "11677231-6d67-4359-8aab-6932dc99d975"
      },
      "source": [
        "plt.scatter(x,y)\n",
        "pt1=(-0.1,-0.1*nueron.w+nueron.b)\n",
        "pt2=(0.15,0.15*nueron.w+nueron.b)\n",
        "plt.plot([pt1[0],pt2[0]],[pt1[1],pt2[1]],'r-')\n",
        "plt.xlabel('data')\n",
        "plt.ylabel('target')\n",
        "plt.show()"
      ],
      "execution_count": 34,
      "outputs": [
        {
          "output_type": "display_data",
          "data": {
            "image/png": "[encoded data removed]",
            "text/plain": [
              "<Figure size 432x288 with 1 Axes>"
            ]
          },
          "metadata": {
            "tags": []
          }
        }
      ]
    },
    {
      "cell_type": "code",
      "metadata": {
        "id": "OKQmltiPv7sV",
        "colab_type": "code",
        "colab": {}
      },
      "source": [
        ""
      ],
      "execution_count": 0,
      "outputs": []
    }
  ]
}
{
  "nbformat": 4,
  "nbformat_minor": 0,
  "metadata": {
    "colab": {
      "name": "doitDeeplearning_4.ipynb",
      "provenance": [],
      "collapsed_sections": [],
      "authorship_tag": "ABX9TyOYjeAiwk+o2S4l57No6RMp",
      "include_colab_link": true
    },
    "kernelspec": {
      "name": "python3",
      "display_name": "Python 3"
    }
  },
  "cells": [
    {
      "cell_type": "markdown",
      "metadata": {
        "id": "view-in-github",
        "colab_type": "text"
      },
      "source": [
        "<a href=\"https://colab.research.google.com/github/sohyeon98720/doitDeeplearning/blob/master/doitDeeplearning_4.ipynb\" target=\"_parent\"><img src=\"https://colab.research.google.com/assets/colab-badge.svg\" alt=\"Open In Colab\"/></a>"
      ]
    },
    {
      "cell_type": "code",
      "metadata": {
        "id": "IuFmPWVTz19f",
        "colab_type": "code",
        "colab": {}
      },
      "source": [
        "# 4-4 로지스틱 회귀\n",
        "# 데이터셋 로드\n",
        "from sklearn.datasets import load_breast_cancer\n",
        "cancer=load_breast_cancer()"
      ],
      "execution_count": 0,
      "outputs": []
    },
    {
      "cell_type": "code",
      "metadata": {
        "id": "exubMKkrz9c6",
        "colab_type": "code",
        "colab": {
          "base_uri": "https://localhost:8080/",
          "height": 35
        },
        "outputId": "3ce5f873-80ca-4454-ff49-2e4e736db0fa"
      },
      "source": [
        "# data shape 확인\n",
        "print(cancer.data.shape,cancer.target.shape)"
      ],
      "execution_count": 2,
      "outputs": [
        {
          "output_type": "stream",
          "text": [
            "(569, 30) (569,)\n"
          ],
          "name": "stdout"
        }
      ]
    },
    {
      "cell_type": "code",
      "metadata": {
        "id": "VKuGZUujz-nk",
        "colab_type": "code",
        "colab": {
          "base_uri": "https://localhost:8080/",
          "height": 293
        },
        "outputId": "15f13138-336c-41d4-91ca-a159ce3fead8"
      },
      "source": [
        "# 데이터 확인\n",
        "cancer.data[:3]"
      ],
      "execution_count": 3,
      "outputs": [
        {
          "output_type": "execute_result",
          "data": {
            "text/plain": [
              "array([[1.799e+01, 1.038e+01, 1.228e+02, 1.001e+03, 1.184e-01, 2.776e-01,\n",
              "        3.001e-01, 1.471e-01, 2.419e-01, 7.871e-02, 1.095e+00, 9.053e-01,\n",
              "        8.589e+00, 1.534e+02, 6.399e-03, 4.904e-02, 5.373e-02, 1.587e-02,\n",
              "        3.003e-02, 6.193e-03, 2.538e+01, 1.733e+01, 1.846e+02, 2.019e+03,\n",
              "        1.622e-01, 6.656e-01, 7.119e-01, 2.654e-01, 4.601e-01, 1.189e-01],\n",
              "       [2.057e+01, 1.777e+01, 1.329e+02, 1.326e+03, 8.474e-02, 7.864e-02,\n",
              "        8.690e-02, 7.017e-02, 1.812e-01, 5.667e-02, 5.435e-01, 7.339e-01,\n",
              "        3.398e+00, 7.408e+01, 5.225e-03, 1.308e-02, 1.860e-02, 1.340e-02,\n",
              "        1.389e-02, 3.532e-03, 2.499e+01, 2.341e+01, 1.588e+02, 1.956e+03,\n",
              "        1.238e-01, 1.866e-01, 2.416e-01, 1.860e-01, 2.750e-01, 8.902e-02],\n",
              "       [1.969e+01, 2.125e+01, 1.300e+02, 1.203e+03, 1.096e-01, 1.599e-01,\n",
              "        1.974e-01, 1.279e-01, 2.069e-01, 5.999e-02, 7.456e-01, 7.869e-01,\n",
              "        4.585e+00, 9.403e+01, 6.150e-03, 4.006e-02, 3.832e-02, 2.058e-02,\n",
              "        2.250e-02, 4.571e-03, 2.357e+01, 2.553e+01, 1.525e+02, 1.709e+03,\n",
              "        1.444e-01, 4.245e-01, 4.504e-01, 2.430e-01, 3.613e-01, 8.758e-02]])"
            ]
          },
          "metadata": {
            "tags": []
          },
          "execution_count": 3
        }
      ]
    },
    {
      "cell_type": "code",
      "metadata": {
        "id": "k5VrHQdA0DL9",
        "colab_type": "code",
        "colab": {
          "base_uri": "https://localhost:8080/",
          "height": 279
        },
        "outputId": "44dd3a7f-f5e9-46e4-9288-903713963310"
      },
      "source": [
        "# boxplot을 이용하여 데이터 분포 살펴보기\n",
        "import matplotlib.pyplot as plt\n",
        "plt.boxplot(cancer.data)\n",
        "plt.xlabel('feature')\n",
        "plt.ylabel('value')\n",
        "plt.show()"
      ],
      "execution_count": 4,
      "outputs": [
        {
          "output_type": "display_data",
          "data": {
            "image/png": "[encoded data removed]",
            "text/plain": [
              "<Figure size 432x288 with 1 Axes>"
            ]
          },
          "metadata": {
            "tags": []
          }
        }
      ]
    },
    {
      "cell_type": "code",
      "metadata": {
        "id": "rgB8v7Ip0JWJ",
        "colab_type": "code",
        "colab": {
          "base_uri": "https://localhost:8080/",
          "height": 35
        },
        "outputId": "68796d27-ed6c-463f-93ae-0e4ec46b71ca"
      },
      "source": [
        "# 눈에 띄는 값의 인덱스 세개의 필드 이름 보기\n",
        "cancer.feature_names[[3,13,23]]"
      ],
      "execution_count": 5,
      "outputs": [
        {
          "output_type": "execute_result",
          "data": {
            "text/plain": [
              "array(['mean area', 'area error', 'worst area'], dtype='<U23')"
            ]
          },
          "metadata": {
            "tags": []
          },
          "execution_count": 5
        }
      ]
    },
    {
      "cell_type": "code",
      "metadata": {
        "id": "fQ2TAque0RO_",
        "colab_type": "code",
        "colab": {
          "base_uri": "https://localhost:8080/",
          "height": 35
        },
        "outputId": "2a57a119-14db-4a7f-db26-768e96fa4ca2"
      },
      "source": [
        "# 0의 갯수는 212, 1의 갯수는 357개\n",
        "# return_counts=False하면 뒤의 결과가 없음(= 값이 몇개인지 안 세줌)\n",
        "import numpy as np\n",
        "np.unique(cancer.target,return_counts=True)"
      ],
      "execution_count": 6,
      "outputs": [
        {
          "output_type": "execute_result",
          "data": {
            "text/plain": [
              "(array([0, 1]), array([212, 357]))"
            ]
          },
          "metadata": {
            "tags": []
          },
          "execution_count": 6
        }
      ]
    },
    {
      "cell_type": "code",
      "metadata": {
        "id": "wOl_Zceh0YBU",
        "colab_type": "code",
        "colab": {}
      },
      "source": [
        "x=cancer.data\n",
        "y=cancer.target"
      ],
      "execution_count": 0,
      "outputs": []
    },
    {
      "cell_type": "code",
      "metadata": {
        "id": "-BKtUz-V0ZaE",
        "colab_type": "code",
        "colab": {}
      },
      "source": [
        "# 데이터셋을 test,train으로 분류해주는 모듈\n",
        "from sklearn.model_selection import train_test_split"
      ],
      "execution_count": 0,
      "outputs": []
    },
    {
      "cell_type": "code",
      "metadata": {
        "id": "EnNuVtkx0ahO",
        "colab_type": "code",
        "colab": {}
      },
      "source": [
        "# stratify=y -> 클래스 비율이 불균형한 경우 써줌\n",
        "# test_size=0.2 -> 데이터의 20%를 테스트세트로 지정\n",
        "x_train,x_test,y_train,y_test=train_test_split(x,y,stratify=y,test_size=0.2,random_state=42)"
      ],
      "execution_count": 0,
      "outputs": []
    },
    {
      "cell_type": "code",
      "metadata": {
        "id": "hLF6tleO0gAl",
        "colab_type": "code",
        "colab": {
          "base_uri": "https://localhost:8080/",
          "height": 54
        },
        "outputId": "1354ce29-abbe-47aa-d152-8853db1bbf2c"
      },
      "source": [
        "# 나눈 뒤 데이터 갯수 보기\n",
        "print(x_train.shape,x_test.shape)\n",
        "print(y_train.shape,y_test.shape)"
      ],
      "execution_count": 10,
      "outputs": [
        {
          "output_type": "stream",
          "text": [
            "(455, 30) (114, 30)\n",
            "(455,) (114,)\n"
          ],
          "name": "stdout"
        }
      ]
    },
    {
      "cell_type": "code",
      "metadata": {
        "id": "95l5-qDH0lOv",
        "colab_type": "code",
        "colab": {
          "base_uri": "https://localhost:8080/",
          "height": 35
        },
        "outputId": "d437eae3-144f-4a59-c376-0f9e4aa29ea3"
      },
      "source": [
        "np.unique(y_train,return_counts=True)"
      ],
      "execution_count": 11,
      "outputs": [
        {
          "output_type": "execute_result",
          "data": {
            "text/plain": [
              "(array([0, 1]), array([170, 285]))"
            ]
          },
          "metadata": {
            "tags": []
          },
          "execution_count": 11
        }
      ]
    },
    {
      "cell_type": "code",
      "metadata": {
        "id": "g3rHNu-70ncA",
        "colab_type": "code",
        "colab": {}
      },
      "source": [
        "# 로지스틱회귀 모델클래스\n",
        "class LogisticNeuron:\n",
        "\n",
        "  def __init__(self):\n",
        "    self.w=None\n",
        "    self.b=None\n",
        "\n",
        "  def forpass(self,x):\n",
        "    z=np.sum(x*self.w)+self.b\n",
        "    return z\n",
        "\n",
        "  def backprop(self,x,err):\n",
        "    w_grad=x*err\n",
        "    b_grad=1*err\n",
        "    return w_grad,b_grad\n",
        "  \n",
        "  def activation(self,z):\n",
        "    a=1/(1+np.exp(-z)) # 시그모이드\n",
        "    return a\n",
        "\n",
        "  def fit(self,x,y,epochs=100):\n",
        "    self.w=np.ones(x.shape[1])\n",
        "    self.b=0\n",
        "    for i in range(epochs):\n",
        "      for x_i,y_i in zip(x,y):\n",
        "        z=self.forpass(x_i)\n",
        "        a=self.activation(z)\n",
        "        err=-(y_i-a)\n",
        "        w_grad,b_grad=self.backprop(x_i,err)\n",
        "        self.w-=w_grad\n",
        "        self.b-=b_grad\n",
        "  \n",
        "  def predict(self,x):\n",
        "    z=[self.forpass(x_i) for x_i in x]\n",
        "    a=self.activation(np.array(z))\n",
        "    return a>0.5\n",
        "    # 0.5가 넘는 값을 가진다는건 유의미하다는 뜻"
      ],
      "execution_count": 0,
      "outputs": []
    },
    {
      "cell_type": "code",
      "metadata": {
        "id": "zDrOYNcH1DNf",
        "colab_type": "code",
        "colab": {
          "base_uri": "https://localhost:8080/",
          "height": 55
        },
        "outputId": "e779b366-5012-4442-891c-59f3eb9f23c2"
      },
      "source": [
        "neuron=LogisticNeuron()\n",
        "neuron.fit(x_train,y_train)"
      ],
      "execution_count": 13,
      "outputs": [
        {
          "output_type": "stream",
          "text": [
            "/usr/local/lib/python3.6/dist-packages/ipykernel_launcher.py:17: RuntimeWarning: overflow encountered in exp\n"
          ],
          "name": "stderr"
        }
      ]
    },
    {
      "cell_type": "code",
      "metadata": {
        "id": "YBu3Z13x1Ek8",
        "colab_type": "code",
        "colab": {
          "base_uri": "https://localhost:8080/",
          "height": 74
        },
        "outputId": "b6916b1c-37e8-4ef5-89e8-e55eba03a0fb"
      },
      "source": [
        "np.mean(neuron.predict(x_test)==y_test)"
      ],
      "execution_count": 14,
      "outputs": [
        {
          "output_type": "stream",
          "text": [
            "/usr/local/lib/python3.6/dist-packages/ipykernel_launcher.py:17: RuntimeWarning: overflow encountered in exp\n"
          ],
          "name": "stderr"
        },
        {
          "output_type": "execute_result",
          "data": {
            "text/plain": [
              "0.8245614035087719"
            ]
          },
          "metadata": {
            "tags": []
          },
          "execution_count": 14
        }
      ]
    },
    {
      "cell_type": "code",
      "metadata": {
        "id": "iIpyDeru1F7l",
        "colab_type": "code",
        "colab": {}
      },
      "source": [
        "# 단일신경망 모델 구축\n",
        "class singleLayer:\n",
        "\n",
        "  def __init__(self):\n",
        "    self.w=None\n",
        "    self.b=None\n",
        "    self.losses=[]\n",
        "\n",
        "  def forpass(self,x):\n",
        "    z=np.sum(x*self.w)+self.b\n",
        "    return z\n",
        "\n",
        "  def backprop(self,x,err):\n",
        "    w_grad=x*err\n",
        "    b_grad=1*err\n",
        "    return w_grad,b_grad\n",
        "  \n",
        "  def add_bias(self,x):\n",
        "    return np.c_[np.ones((x.shape[0])),x]\n",
        "\n",
        "  def activation(self,z):\n",
        "    a=1/(1+np.exp(-z))\n",
        "    return a\n",
        "\n",
        "  def fit(self,x,y,epochs=100):\n",
        "    self.w=np.ones(x.shape[1])\n",
        "    self.b=0\n",
        "    for i in range(epochs):\n",
        "      loss=0\n",
        "      indexes=np.random.permutation(np.arange(len(x)))\n",
        "      for i in indexes:\n",
        "        z=self.forpass(x[i])\n",
        "        a=self.activation(z)\n",
        "        err=-(y[i]-a)\n",
        "        w_grad,b_grad=self.backprop(x[i],err)\n",
        "        self.w-=w_grad\n",
        "        self.b-=b_grad\n",
        "        a=np.clip(a,1e-10,1-1e-10)\n",
        "        loss+=-(y[i]*np.log(a)+(1-y[i])*np.log(1-a))\n",
        "      self.losses.append(loss/len(y))\n",
        "  \n",
        "  def predict(self,x):\n",
        "    z=[self.forpass(x_i) for x_i in x]\n",
        "    return np.array(z)>0\n",
        "\n",
        "  def score(self,x,y):\n",
        "    return np.mean(self.predict(x)==y)"
      ],
      "execution_count": 0,
      "outputs": []
    },
    {
      "cell_type": "code",
      "metadata": {
        "id": "ZehTycPO1OFK",
        "colab_type": "code",
        "colab": {
          "base_uri": "https://localhost:8080/",
          "height": 74
        },
        "outputId": "66505b38-1600-49f2-ae38-c886f41cdbc8"
      },
      "source": [
        "layer=singleLayer()\n",
        "layer.fit(x_train,y_train)\n",
        "layer.score(x_test,y_test)"
      ],
      "execution_count": 16,
      "outputs": [
        {
          "output_type": "stream",
          "text": [
            "/usr/local/lib/python3.6/dist-packages/ipykernel_launcher.py:21: RuntimeWarning: overflow encountered in exp\n"
          ],
          "name": "stderr"
        },
        {
          "output_type": "execute_result",
          "data": {
            "text/plain": [
              "0.868421052631579"
            ]
          },
          "metadata": {
            "tags": []
          },
          "execution_count": 16
        }
      ]
    },
    {
      "cell_type": "code",
      "metadata": {
        "id": "EtK8k8vx1Q9b",
        "colab_type": "code",
        "colab": {
          "base_uri": "https://localhost:8080/",
          "height": 279
        },
        "outputId": "99da52a4-14ff-4257-9085-c5ded7764133"
      },
      "source": [
        "plt.plot(layer.losses)\n",
        "plt.xlabel('epoch')\n",
        "plt.ylabel('loss')\n",
        "plt.show()"
      ],
      "execution_count": 17,
      "outputs": [
        {
          "output_type": "display_data",
          "data": {
            "image/png": "[encoded data removed]",
            "text/plain": [
              "<Figure size 432x288 with 1 Axes>"
            ]
          },
          "metadata": {
            "tags": []
          }
        }
      ]
    },
    {
      "cell_type": "code",
      "metadata": {
        "id": "XWWKb5LB1SGJ",
        "colab_type": "code",
        "colab": {}
      },
      "source": [
        "# 위의 과정을 모듈로 구현하기\n",
        "# SGD는 확률적 경사하강법, 손실함수는 로그함수\n",
        "from sklearn.linear_model import SGDClassifier\n",
        "sgd=SGDClassifier(loss='log',max_iter=100,tol=1e-3,random_state=42)"
      ],
      "execution_count": 0,
      "outputs": []
    },
    {
      "cell_type": "code",
      "metadata": {
        "id": "upzHGTQl1ZLW",
        "colab_type": "code",
        "colab": {
          "base_uri": "https://localhost:8080/",
          "height": 35
        },
        "outputId": "0768f192-3368-4cbb-bcbd-6d1d09f31bb9"
      },
      "source": [
        "sgd.fit(x_train,y_train)\n",
        "sgd.score(x_test,y_test)"
      ],
      "execution_count": 19,
      "outputs": [
        {
          "output_type": "execute_result",
          "data": {
            "text/plain": [
              "0.8333333333333334"
            ]
          },
          "metadata": {
            "tags": []
          },
          "execution_count": 19
        }
      ]
    },
    {
      "cell_type": "code",
      "metadata": {
        "id": "TuUgrQYe1aS5",
        "colab_type": "code",
        "colab": {
          "base_uri": "https://localhost:8080/",
          "height": 35
        },
        "outputId": "7f1ee012-69e7-4ae3-fe3a-f8e8b58270c7"
      },
      "source": [
        "# 예측한 결과\n",
        "sgd.predict(x_test[0:20])"
      ],
      "execution_count": 20,
      "outputs": [
        {
          "output_type": "execute_result",
          "data": {
            "text/plain": [
              "array([0, 1, 0, 0, 0, 0, 1, 0, 0, 0, 1, 0, 1, 0, 0, 1, 0, 1, 0, 1])"
            ]
          },
          "metadata": {
            "tags": []
          },
          "execution_count": 20
        }
      ]
    },
    {
      "cell_type": "code",
      "metadata": {
        "id": "rHoynIoG1eqs",
        "colab_type": "code",
        "colab": {
          "base_uri": "https://localhost:8080/",
          "height": 35
        },
        "outputId": "afa18528-5697-41ab-b952-00bd30406823"
      },
      "source": [
        "# 실제 결과\n",
        "y_test[0:20]"
      ],
      "execution_count": 21,
      "outputs": [
        {
          "output_type": "execute_result",
          "data": {
            "text/plain": [
              "array([0, 1, 0, 1, 0, 1, 1, 0, 0, 0, 1, 0, 1, 0, 0, 1, 1, 1, 1, 1])"
            ]
          },
          "metadata": {
            "tags": []
          },
          "execution_count": 21
        }
      ]
    }
  ]
}
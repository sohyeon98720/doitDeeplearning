{
  "nbformat": 4,
  "nbformat_minor": 0,
  "metadata": {
    "colab": {
      "name": "doitDeeplearning_7.ipynb",
      "provenance": [],
      "collapsed_sections": [],
      "authorship_tag": "ABX9TyNDQ5d/6Bb9tzVsaVL4JskM",
      "include_colab_link": true
    },
    "kernelspec": {
      "name": "python3",
      "display_name": "Python 3"
    }
  },
  "cells": [
    {
      "cell_type": "markdown",
      "metadata": {
        "id": "view-in-github",
        "colab_type": "text"
      },
      "source": [
        "<a href=\"https://colab.research.google.com/github/sohyeon98720/doitDeeplearning/blob/master/doitDeeplearning_7.ipynb\" target=\"_parent\"><img src=\"https://colab.research.google.com/assets/colab-badge.svg\" alt=\"Open In Colab\"/></a>"
      ]
    },
    {
      "cell_type": "code",
      "metadata": {
        "id": "o46IrSnu2zw4",
        "colab_type": "code",
        "colab": {}
      },
      "source": [
        "# 7강 다중분류 : 옷 분류\n",
        "class MultiClassNetwork():\n",
        "       \n",
        "    def __init__(self, units=10, batch_size=32, learning_rate=0.1, l1=0, l2=0):\n",
        "        self.units = units         # 은닉층의 뉴런 개수\n",
        "        self.batch_size = batch_size     # 배치 크기\n",
        "        self.w1 = None             # 은닉층의 가중치\n",
        "        self.b1 = None             # 은닉층의 절편\n",
        "        self.w2 = None             # 출력층의 가중치\n",
        "        self.b2 = None             # 출력층의 절편\n",
        "        self.a1 = None             # 은닉층의 활성화 출력\n",
        "        self.losses = []           # 훈련 손실\n",
        "        self.val_losses = []       # 검증 손실\n",
        "        self.lr = learning_rate    # 학습률\n",
        "        self.l1 = l1               # L1 손실 하이퍼파라미터\n",
        "        self.l2 = l2               # L2 손실 하이퍼파라미터\n",
        "\n",
        "    def forpass(self, x):\n",
        "        z1 = np.dot(x, self.w1) + self.b1\n",
        "        self.a1 = self.sigmoid(z1)\n",
        "        z2 = np.dot(self.a1, self.w2) + self.b2\n",
        "        return z2\n",
        "\n",
        "    def backprop(self, x, err):\n",
        "        m = len(x)       # 샘플 개수\n",
        "        w2_grad = np.dot(self.a1.T, err) / m\n",
        "        b2_grad = np.sum(err) / m\n",
        "        err_to_hidden = np.dot(err, self.w2.T) * self.a1 * (1 - self.a1)\n",
        "        w1_grad = np.dot(x.T, err_to_hidden) / m\n",
        "        b1_grad = np.sum(err_to_hidden, axis=0) / m\n",
        "        return w1_grad, b1_grad, w2_grad, b2_grad\n",
        "    \n",
        "    def sigmoid(self, z):\n",
        "        a = 1 / (1 + np.exp(-z))   \n",
        "        return a\n",
        "    \n",
        "    def softmax(self, z):\n",
        "        exp_z = np.exp(z)\n",
        "        return exp_z / np.sum(exp_z, axis=1).reshape(-1, 1)\n",
        " \n",
        "    def init_weights(self, n_features, n_classes):\n",
        "        self.w1 = np.random.normal(0, 1, \n",
        "                                   (n_features, self.units))  # (특성 개수, 은닉층의 크기)\n",
        "        self.b1 = np.zeros(self.units)                        # 은닉층의 크기\n",
        "        self.w2 = np.random.normal(0, 1, \n",
        "                                   (self.units, n_classes))   # (은닉층의 크기, 클래스 개수)\n",
        "        self.b2 = np.zeros(n_classes)\n",
        "        \n",
        "    def fit(self, x, y, epochs=100, x_val=None, y_val=None):\n",
        "        np.random.seed(42)\n",
        "        self.init_weights(x.shape[1], y.shape[1])\n",
        "        for i in range(epochs):\n",
        "            loss = 0\n",
        "            print('.', end='')# 구분에 편리\n",
        "            for x_batch, y_batch in self.gen_batch(x, y):\n",
        "                a = self.training(x_batch, y_batch)\n",
        "                a = np.clip(a, 1e-10, 1-1e-10)\n",
        "                loss += np.sum(-y_batch*np.log(a))\n",
        "            self.losses.append((loss + self.reg_loss()) / len(x))\n",
        "            self.update_val_loss(x_val, y_val)\n",
        "\n",
        "    def gen_batch(self, x, y):\n",
        "        length = len(x)\n",
        "        bins = length // self.batch_size # 미니배치 횟수\n",
        "        if length % self.batch_size:\n",
        "            bins += 1 \n",
        "        indexes = np.random.permutation(np.arange(len(x)))\n",
        "        x = x[indexes]\n",
        "        y = y[indexes]\n",
        "        for i in range(bins):\n",
        "            start = self.batch_size * i\n",
        "            end = self.batch_size * (i + 1)\n",
        "            yield x[start:end], y[start:end]\n",
        "            \n",
        "    def training(self, x, y):\n",
        "        m = len(x)               \n",
        "        z = self.forpass(x)      \n",
        "        a = self.softmax(z)      \n",
        "        err = -(y - a)           \n",
        "        w1_grad, b1_grad, w2_grad, b2_grad = self.backprop(x, err)\n",
        "        w1_grad += (self.l1 * np.sign(self.w1) + self.l2 * self.w1) / m\n",
        "        w2_grad += (self.l1 * np.sign(self.w2) + self.l2 * self.w2) / m\n",
        "        self.w1 -= self.lr * w1_grad\n",
        "        self.b1 -= self.lr * b1_grad\n",
        "        self.w2 -= self.lr * w2_grad\n",
        "        self.b2 -= self.lr * b2_grad\n",
        "        return a\n",
        "   \n",
        "    def predict(self, x):\n",
        "        z = self.forpass(x)  \n",
        "        return np.argmax(z, axis=1) \n",
        "    \n",
        "    def score(self, x, y):\n",
        "        return np.mean(self.predict(x) == np.argmax(y, axis=1))\n",
        "\n",
        "    def reg_loss(self):\n",
        "        return self.l1 * (np.sum(np.abs(self.w1)) + np.sum(np.abs(self.w2))) + \\\n",
        "               self.l2 / 2 * (np.sum(self.w1**2) + np.sum(self.w2**2))\n",
        "\n",
        "    def update_val_loss(self, x_val, y_val):\n",
        "        z = self.forpass(x_val)\n",
        "        a = self.softmax(z)    \n",
        "        a = np.clip(a, 1e-10, 1-1e-10)  \n",
        "        val_loss = np.sum(-y_val*np.log(a))\n",
        "        self.val_losses.append((val_loss + self.reg_loss()) / len(y_val))"
      ],
      "execution_count": 0,
      "outputs": []
    },
    {
      "cell_type": "code",
      "metadata": {
        "id": "mXnvnz7S3u9O",
        "colab_type": "code",
        "colab": {
          "base_uri": "https://localhost:8080/",
          "height": 663
        },
        "outputId": "14bbb5b5-d11c-4c6b-ac2f-ad4c8867bc76"
      },
      "source": [
        "!pip install tensorflow_gpu==2.0.0-rc1\n",
        "\n",
        "import numpy as np\n",
        "import matplotlib.pyplot as plt\n",
        "import tensorflow as tf"
      ],
      "execution_count": 5,
      "outputs": [
        {
          "output_type": "stream",
          "text": [
            "Collecting tensorflow_gpu==2.0.0-rc1\n",
            "\u001b[?25l  Downloading https://files.pythonhosted.org/packages/73/cf/2fc69ba3e59edc8333e2676fa71b40197718dea7dc1282c79955cf6b2acb/tensorflow_gpu-2.0.0rc1-cp36-cp36m-manylinux2010_x86_64.whl (380.5MB)\n",
            "\u001b[K     |████████████████████████████████| 380.5MB 37kB/s \n",
            "\u001b[?25hCollecting tb-nightly<1.15.0a20190807,>=1.15.0a20190806\n",
            "\u001b[?25l  Downloading https://files.pythonhosted.org/packages/bc/88/24b5fb7280e74c7cf65bde47c171547fd02afb3840cff41bcbe9270650f5/tb_nightly-1.15.0a20190806-py3-none-any.whl (4.3MB)\n",
            "\u001b[K     |████████████████████████████████| 4.3MB 34.5MB/s \n",
            "\u001b[?25hRequirement already satisfied: keras-applications>=1.0.8 in /usr/local/lib/python3.6/dist-packages (from tensorflow_gpu==2.0.0-rc1) (1.0.8)\n",
            "Requirement already satisfied: gast>=0.2.0 in /usr/local/lib/python3.6/dist-packages (from tensorflow_gpu==2.0.0-rc1) (0.2.2)\n",
            "Requirement already satisfied: numpy<2.0,>=1.16.0 in /usr/local/lib/python3.6/dist-packages (from tensorflow_gpu==2.0.0-rc1) (1.17.5)\n",
            "Requirement already satisfied: protobuf>=3.6.1 in /usr/local/lib/python3.6/dist-packages (from tensorflow_gpu==2.0.0-rc1) (3.10.0)\n",
            "Collecting tf-estimator-nightly<1.14.0.dev2019080602,>=1.14.0.dev2019080601\n",
            "\u001b[?25l  Downloading https://files.pythonhosted.org/packages/21/28/f2a27a62943d5f041e4a6fd404b2d21cb7c59b2242a4e73b03d9ba166552/tf_estimator_nightly-1.14.0.dev2019080601-py2.py3-none-any.whl (501kB)\n",
            "\u001b[K     |████████████████████████████████| 501kB 63.3MB/s \n",
            "\u001b[?25hRequirement already satisfied: wrapt>=1.11.1 in /usr/local/lib/python3.6/dist-packages (from tensorflow_gpu==2.0.0-rc1) (1.11.2)\n",
            "Requirement already satisfied: astor>=0.6.0 in /usr/local/lib/python3.6/dist-packages (from tensorflow_gpu==2.0.0-rc1) (0.8.1)\n",
            "Requirement already satisfied: wheel>=0.26 in /usr/local/lib/python3.6/dist-packages (from tensorflow_gpu==2.0.0-rc1) (0.34.2)\n",
            "Requirement already satisfied: keras-preprocessing>=1.0.5 in /usr/local/lib/python3.6/dist-packages (from tensorflow_gpu==2.0.0-rc1) (1.1.0)\n",
            "Requirement already satisfied: absl-py>=0.7.0 in /usr/local/lib/python3.6/dist-packages (from tensorflow_gpu==2.0.0-rc1) (0.9.0)\n",
            "Requirement already satisfied: opt-einsum>=2.3.2 in /usr/local/lib/python3.6/dist-packages (from tensorflow_gpu==2.0.0-rc1) (3.1.0)\n",
            "Requirement already satisfied: termcolor>=1.1.0 in /usr/local/lib/python3.6/dist-packages (from tensorflow_gpu==2.0.0-rc1) (1.1.0)\n",
            "Requirement already satisfied: six>=1.10.0 in /usr/local/lib/python3.6/dist-packages (from tensorflow_gpu==2.0.0-rc1) (1.12.0)\n",
            "Requirement already satisfied: grpcio>=1.8.6 in /usr/local/lib/python3.6/dist-packages (from tensorflow_gpu==2.0.0-rc1) (1.27.1)\n",
            "Requirement already satisfied: google-pasta>=0.1.6 in /usr/local/lib/python3.6/dist-packages (from tensorflow_gpu==2.0.0-rc1) (0.1.8)\n",
            "Requirement already satisfied: werkzeug>=0.11.15 in /usr/local/lib/python3.6/dist-packages (from tb-nightly<1.15.0a20190807,>=1.15.0a20190806->tensorflow_gpu==2.0.0-rc1) (1.0.0)\n",
            "Requirement already satisfied: markdown>=2.6.8 in /usr/local/lib/python3.6/dist-packages (from tb-nightly<1.15.0a20190807,>=1.15.0a20190806->tensorflow_gpu==2.0.0-rc1) (3.2.1)\n",
            "Requirement already satisfied: setuptools>=41.0.0 in /usr/local/lib/python3.6/dist-packages (from tb-nightly<1.15.0a20190807,>=1.15.0a20190806->tensorflow_gpu==2.0.0-rc1) (45.2.0)\n",
            "Requirement already satisfied: h5py in /usr/local/lib/python3.6/dist-packages (from keras-applications>=1.0.8->tensorflow_gpu==2.0.0-rc1) (2.8.0)\n",
            "Installing collected packages: tb-nightly, tf-estimator-nightly, tensorflow-gpu\n",
            "Successfully installed tb-nightly-1.15.0a20190806 tensorflow-gpu-2.0.0rc1 tf-estimator-nightly-1.14.0.dev2019080601\n"
          ],
          "name": "stdout"
        },
        {
          "output_type": "display_data",
          "data": {
            "application/vnd.colab-display-data+json": {
              "pip_warning": {
                "packages": [
                  "tensorboard",
                  "tensorflow",
                  "tensorflow_core",
                  "tensorflow_estimator"
                ]
              }
            }
          },
          "metadata": {
            "tags": []
          }
        }
      ]
    },
    {
      "cell_type": "code",
      "metadata": {
        "id": "dxroznb93wkX",
        "colab_type": "code",
        "colab": {
          "base_uri": "https://localhost:8080/",
          "height": 184
        },
        "outputId": "9503721f-1d61-437b-82ed-e8176d7f0f5d"
      },
      "source": [
        "# 데이터 로드\n",
        "(x_train_all,y_train_all),(x_test,y_test)=tf.keras.datasets.fashion_mnist.load_data()"
      ],
      "execution_count": 6,
      "outputs": [
        {
          "output_type": "stream",
          "text": [
            "Downloading data from https://storage.googleapis.com/tensorflow/tf-keras-datasets/train-labels-idx1-ubyte.gz\n",
            "32768/29515 [=================================] - 0s 0us/step\n",
            "Downloading data from https://storage.googleapis.com/tensorflow/tf-keras-datasets/train-images-idx3-ubyte.gz\n",
            "26427392/26421880 [==============================] - 0s 0us/step\n",
            "Downloading data from https://storage.googleapis.com/tensorflow/tf-keras-datasets/t10k-labels-idx1-ubyte.gz\n",
            "8192/5148 [===============================================] - 0s 0us/step\n",
            "Downloading data from https://storage.googleapis.com/tensorflow/tf-keras-datasets/t10k-images-idx3-ubyte.gz\n",
            "4423680/4422102 [==============================] - 0s 0us/step\n"
          ],
          "name": "stdout"
        }
      ]
    },
    {
      "cell_type": "code",
      "metadata": {
        "id": "yz3XmaDy3zlx",
        "colab_type": "code",
        "colab": {
          "base_uri": "https://localhost:8080/",
          "height": 35
        },
        "outputId": "5e547a75-3f7b-4f9e-911c-07a09e440de6"
      },
      "source": [
        "# 데이터 확인\n",
        "print(x_train_all.shape,y_train_all.shape)"
      ],
      "execution_count": 7,
      "outputs": [
        {
          "output_type": "stream",
          "text": [
            "(60000, 28, 28) (60000,)\n"
          ],
          "name": "stdout"
        }
      ]
    },
    {
      "cell_type": "code",
      "metadata": {
        "id": "4aAO7iSA4Svx",
        "colab_type": "code",
        "colab": {
          "base_uri": "https://localhost:8080/",
          "height": 513
        },
        "outputId": "b04006de-469c-472f-b8e3-26eeda05ced5"
      },
      "source": [
        "# 데이터 확인 2\n",
        "plt.imshow(x_train_all[0],cmap='gray')\n",
        "plt.show()\n",
        "plt.imshow(x_train_all[0])\n",
        "plt.show()"
      ],
      "execution_count": 8,
      "outputs": [
        {
          "output_type": "display_data",
          "data": {
            "image/png": "[encoded data removed]",
            "text/plain": [
              "<Figure size 432x288 with 1 Axes>"
            ]
          },
          "metadata": {
            "tags": []
          }
        },
        {
          "output_type": "display_data",
          "data": {
            "image/png": "[encoded data removed]",
            "text/plain": [
              "<Figure size 432x288 with 1 Axes>"
            ]
          },
          "metadata": {
            "tags": []
          }
        }
      ]
    },
    {
      "cell_type": "code",
      "metadata": {
        "id": "29hpzm0q4YwC",
        "colab_type": "code",
        "colab": {
          "base_uri": "https://localhost:8080/",
          "height": 35
        },
        "outputId": "f2040f8b-22cf-4210-a832-414634d1a20a"
      },
      "source": [
        "print(y_train_all[:10])"
      ],
      "execution_count": 9,
      "outputs": [
        {
          "output_type": "stream",
          "text": [
            "[9 0 0 3 0 2 7 2 5 5]\n"
          ],
          "name": "stdout"
        }
      ]
    },
    {
      "cell_type": "code",
      "metadata": {
        "id": "FOVFAyrk4bWz",
        "colab_type": "code",
        "colab": {}
      },
      "source": [
        "class_names=['티셔츠/윗도리','바지','스워터','드레스','코트',\n",
        "             '샌들','셔츠','스니커즈','가방','앵클부츠']"
      ],
      "execution_count": 0,
      "outputs": []
    },
    {
      "cell_type": "code",
      "metadata": {
        "id": "iLiG9LUB4ekc",
        "colab_type": "code",
        "colab": {
          "base_uri": "https://localhost:8080/",
          "height": 35
        },
        "outputId": "74de4187-b72a-4e3f-b4b0-d8e90bd9de60"
      },
      "source": [
        "# ln[9]를 참조 - y_train_all[9] = 5 -> 5에 해당하는 class_name은 샌들\n",
        "print(class_names[y_train_all[9]])"
      ],
      "execution_count": 11,
      "outputs": [
        {
          "output_type": "stream",
          "text": [
            "샌들\n"
          ],
          "name": "stdout"
        }
      ]
    },
    {
      "cell_type": "code",
      "metadata": {
        "id": "zAmGD1ey4gOy",
        "colab_type": "code",
        "colab": {
          "base_uri": "https://localhost:8080/",
          "height": 54
        },
        "outputId": "4317ec17-5e5c-4b0b-8b52-b8d5d8d58f7d"
      },
      "source": [
        "# 데이터 분포 확인\n",
        "np.unique(y_train_all,return_counts=True)"
      ],
      "execution_count": 12,
      "outputs": [
        {
          "output_type": "execute_result",
          "data": {
            "text/plain": [
              "(array([0, 1, 2, 3, 4, 5, 6, 7, 8, 9], dtype=uint8),\n",
              " array([6000, 6000, 6000, 6000, 6000, 6000, 6000, 6000, 6000, 6000]))"
            ]
          },
          "metadata": {
            "tags": []
          },
          "execution_count": 12
        }
      ]
    },
    {
      "cell_type": "code",
      "metadata": {
        "id": "vvoPV8qc4y-n",
        "colab_type": "code",
        "colab": {
          "base_uri": "https://localhost:8080/",
          "height": 35
        },
        "outputId": "f243bcd2-9d28-4a92-9950-8b255a7a6903"
      },
      "source": [
        "# 정수의 빈도수를 세어 반환\n",
        "# np.unique와 비슷한 용도로 쓸 수 있음\n",
        "np.bincount(y_train_all)"
      ],
      "execution_count": 13,
      "outputs": [
        {
          "output_type": "execute_result",
          "data": {
            "text/plain": [
              "array([6000, 6000, 6000, 6000, 6000, 6000, 6000, 6000, 6000, 6000])"
            ]
          },
          "metadata": {
            "tags": []
          },
          "execution_count": 13
        }
      ]
    },
    {
      "cell_type": "code",
      "metadata": {
        "id": "_y1M8m4D445v",
        "colab_type": "code",
        "colab": {}
      },
      "source": [
        "from sklearn.model_selection import train_test_split\n",
        "x_train,x_val,y_train,y_val=train_test_split(x_train_all,y_train_all,stratify=y_train_all,test_size=0.2,random_state=42)"
      ],
      "execution_count": 0,
      "outputs": []
    },
    {
      "cell_type": "code",
      "metadata": {
        "id": "AoqbF_op46nC",
        "colab_type": "code",
        "colab": {}
      },
      "source": [
        "#이미지 정규화(이미지 픽셀범위가 원래 0-255이므로 나눠서 0~1값으로 만듦)\n",
        "x_train=x_train/255.0\n",
        "x_val=x_val/255.0"
      ],
      "execution_count": 0,
      "outputs": []
    },
    {
      "cell_type": "code",
      "metadata": {
        "id": "cFUZ6F0P5AAv",
        "colab_type": "code",
        "colab": {
          "base_uri": "https://localhost:8080/",
          "height": 35
        },
        "outputId": "02f171e6-fdb2-46e4-9e48-81a576a1511a"
      },
      "source": [
        "print(x_train.shape)"
      ],
      "execution_count": 16,
      "outputs": [
        {
          "output_type": "stream",
          "text": [
            "(48000, 28, 28)\n"
          ],
          "name": "stdout"
        }
      ]
    },
    {
      "cell_type": "code",
      "metadata": {
        "id": "jEKKkcBr5B1z",
        "colab_type": "code",
        "colab": {}
      },
      "source": [
        "# 차원 변화\n",
        "x_train=x_train.reshape(48000,-1)"
      ],
      "execution_count": 0,
      "outputs": []
    },
    {
      "cell_type": "code",
      "metadata": {
        "id": "MwR0URyS5HLI",
        "colab_type": "code",
        "colab": {
          "base_uri": "https://localhost:8080/",
          "height": 35
        },
        "outputId": "a0a1de69-b940-495e-8513-9009fa47e487"
      },
      "source": [
        "print(x_train.shape)"
      ],
      "execution_count": 18,
      "outputs": [
        {
          "output_type": "stream",
          "text": [
            "(48000, 784)\n"
          ],
          "name": "stdout"
        }
      ]
    },
    {
      "cell_type": "code",
      "metadata": {
        "id": "EFfVQh555IbO",
        "colab_type": "code",
        "colab": {}
      },
      "source": [
        "x_val=x_val.reshape(-1,784)"
      ],
      "execution_count": 0,
      "outputs": []
    },
    {
      "cell_type": "code",
      "metadata": {
        "id": "lilv-hhk5Jl-",
        "colab_type": "code",
        "colab": {
          "base_uri": "https://localhost:8080/",
          "height": 35
        },
        "outputId": "5f345d7a-6ecb-4f2c-b81a-752b0e8fd87a"
      },
      "source": [
        "print(x_train.shape,x_val.shape)"
      ],
      "execution_count": 20,
      "outputs": [
        {
          "output_type": "stream",
          "text": [
            "(48000, 784) (12000, 784)\n"
          ],
          "name": "stdout"
        }
      ]
    },
    {
      "cell_type": "code",
      "metadata": {
        "id": "y0gOgyFY5KwH",
        "colab_type": "code",
        "colab": {
          "base_uri": "https://localhost:8080/",
          "height": 72
        },
        "outputId": "e26b0d9d-d0aa-4ec7-d832-ebadbba91841"
      },
      "source": [
        "# 원 핫 인코딩 설명\n",
        "tf.keras.utils.to_categorical([0,1,3])"
      ],
      "execution_count": 21,
      "outputs": [
        {
          "output_type": "execute_result",
          "data": {
            "text/plain": [
              "array([[1., 0., 0., 0.],\n",
              "       [0., 1., 0., 0.],\n",
              "       [0., 0., 0., 1.]], dtype=float32)"
            ]
          },
          "metadata": {
            "tags": []
          },
          "execution_count": 21
        }
      ]
    },
    {
      "cell_type": "code",
      "metadata": {
        "id": "10WKSgc65NY9",
        "colab_type": "code",
        "colab": {}
      },
      "source": [
        "# 원 핫 인코딩 적용\n",
        "y_train_encoded=tf.keras.utils.to_categorical(y_train)\n",
        "y_val_encoded=tf.keras.utils.to_categorical(y_val)"
      ],
      "execution_count": 0,
      "outputs": []
    },
    {
      "cell_type": "code",
      "metadata": {
        "id": "gCxq0SYv5RM-",
        "colab_type": "code",
        "colab": {
          "base_uri": "https://localhost:8080/",
          "height": 54
        },
        "outputId": "0e23791f-9393-4976-fa20-b14af3c29f00"
      },
      "source": [
        "print(y_train.shape,y_val.shape)\n",
        "print(y_train_encoded.shape,y_val_encoded.shape)"
      ],
      "execution_count": 23,
      "outputs": [
        {
          "output_type": "stream",
          "text": [
            "(48000,) (12000,)\n",
            "(48000, 10) (12000, 10)\n"
          ],
          "name": "stdout"
        }
      ]
    },
    {
      "cell_type": "code",
      "metadata": {
        "id": "V98-qbtM5SZn",
        "colab_type": "code",
        "colab": {
          "base_uri": "https://localhost:8080/",
          "height": 35
        },
        "outputId": "ad80d438-42ae-4a87-e904-675ac6fef26c"
      },
      "source": [
        "# 원 핫 인코딩이 잘 되었는지 확인\n",
        "print(class_names[y_train[0]],y_train[0],y_train_encoded[0])"
      ],
      "execution_count": 24,
      "outputs": [
        {
          "output_type": "stream",
          "text": [
            "셔츠 6 [0. 0. 0. 0. 0. 0. 1. 0. 0. 0.]\n"
          ],
          "name": "stdout"
        }
      ]
    },
    {
      "cell_type": "code",
      "metadata": {
        "id": "CkWNvgkB5VzP",
        "colab_type": "code",
        "colab": {
          "base_uri": "https://localhost:8080/",
          "height": 35
        },
        "outputId": "0fb7bf36-a36f-4a53-9fd3-89e6660e79fb"
      },
      "source": [
        "fc=MultiClassNetwork(units=100,batch_size=256)\n",
        "fc.fit(x_train,y_train_encoded,x_val=x_val,y_val=y_val_encoded,epochs=40)"
      ],
      "execution_count": 25,
      "outputs": [
        {
          "output_type": "stream",
          "text": [
            "........................................"
          ],
          "name": "stdout"
        }
      ]
    },
    {
      "cell_type": "code",
      "metadata": {
        "id": "hH_iv6wl5XEP",
        "colab_type": "code",
        "colab": {
          "base_uri": "https://localhost:8080/",
          "height": 279
        },
        "outputId": "da205c14-e4a2-4437-ce1f-54ae3b18f52d"
      },
      "source": [
        "plt.plot(fc.losses)\n",
        "plt.plot(fc.val_losses)\n",
        "plt.ylabel('loss')\n",
        "plt.xlabel('iteration')\n",
        "plt.legend(['train_loss','val_loss'])\n",
        "plt.show()"
      ],
      "execution_count": 26,
      "outputs": [
        {
          "output_type": "display_data",
          "data": {
            "image/png": "[encoded data removed]",
            "text/plain": [
              "<Figure size 432x288 with 1 Axes>"
            ]
          },
          "metadata": {
            "tags": []
          }
        }
      ]
    },
    {
      "cell_type": "code",
      "metadata": {
        "id": "fY8b4kHy5YQ7",
        "colab_type": "code",
        "colab": {
          "base_uri": "https://localhost:8080/",
          "height": 35
        },
        "outputId": "712cd84c-6ddd-41ed-9435-26133b6d27bc"
      },
      "source": [
        "fc.score(x_val,y_val_encoded)"
      ],
      "execution_count": 27,
      "outputs": [
        {
          "output_type": "execute_result",
          "data": {
            "text/plain": [
              "0.8150833333333334"
            ]
          },
          "metadata": {
            "tags": []
          },
          "execution_count": 27
        }
      ]
    },
    {
      "cell_type": "code",
      "metadata": {
        "id": "guOWi85G5Z4b",
        "colab_type": "code",
        "colab": {}
      },
      "source": [
        "# keras로 다중 분류 신경망 구현\n",
        "from tensorflow.keras import Sequential\n",
        "from tensorflow.keras.layers import Dense\n",
        "\n",
        "model=Sequential()\n",
        "model.add(Dense(100,activation='sigmoid',input_shape=(784,)))\n",
        "model.add(Dense(10,activation='softmax'))"
      ],
      "execution_count": 0,
      "outputs": []
    },
    {
      "cell_type": "code",
      "metadata": {
        "id": "JjLDgmLA7-PV",
        "colab_type": "code",
        "colab": {}
      },
      "source": [
        "model.compile(optimizer='sgd',loss='categorical_crossentropy',metrics=['accuracy'])"
      ],
      "execution_count": 0,
      "outputs": []
    },
    {
      "cell_type": "code",
      "metadata": {
        "id": "Z6eb3PYS8Nn8",
        "colab_type": "code",
        "colab": {
          "base_uri": "https://localhost:8080/",
          "height": 1000
        },
        "outputId": "9c27fcda-da38-4f58-8d98-d44d6b495c04"
      },
      "source": [
        "history=model.fit(x_train,y_train_encoded,epochs=40,validation_data=(x_val,y_val_encoded))"
      ],
      "execution_count": 31,
      "outputs": [
        {
          "output_type": "stream",
          "text": [
            "Train on 48000 samples, validate on 12000 samples\n",
            "Epoch 1/40\n",
            "48000/48000 [==============================] - 3s 62us/sample - loss: 1.3725 - acc: 0.6341 - val_loss: 0.9600 - val_acc: 0.7315\n",
            "Epoch 2/40\n",
            "48000/48000 [==============================] - 3s 61us/sample - loss: 0.8440 - acc: 0.7398 - val_loss: 0.7520 - val_acc: 0.7569\n",
            "Epoch 3/40\n",
            "48000/48000 [==============================] - 3s 63us/sample - loss: 0.7135 - acc: 0.7616 - val_loss: 0.6657 - val_acc: 0.7785\n",
            "Epoch 4/40\n",
            "48000/48000 [==============================] - 3s 61us/sample - loss: 0.6486 - acc: 0.7775 - val_loss: 0.6141 - val_acc: 0.7919\n",
            "Epoch 5/40\n",
            "48000/48000 [==============================] - 3s 61us/sample - loss: 0.6065 - acc: 0.7918 - val_loss: 0.5777 - val_acc: 0.8013\n",
            "Epoch 6/40\n",
            "48000/48000 [==============================] - 3s 63us/sample - loss: 0.5761 - acc: 0.8015 - val_loss: 0.5532 - val_acc: 0.8084\n",
            "Epoch 7/40\n",
            "48000/48000 [==============================] - 3s 62us/sample - loss: 0.5528 - acc: 0.8088 - val_loss: 0.5321 - val_acc: 0.8155\n",
            "Epoch 8/40\n",
            "48000/48000 [==============================] - 3s 61us/sample - loss: 0.5349 - acc: 0.8152 - val_loss: 0.5153 - val_acc: 0.8202\n",
            "Epoch 9/40\n",
            "48000/48000 [==============================] - 3s 62us/sample - loss: 0.5201 - acc: 0.8200 - val_loss: 0.5009 - val_acc: 0.8257\n",
            "Epoch 10/40\n",
            "48000/48000 [==============================] - 3s 61us/sample - loss: 0.5079 - acc: 0.8239 - val_loss: 0.4912 - val_acc: 0.8282\n",
            "Epoch 11/40\n",
            "48000/48000 [==============================] - 3s 62us/sample - loss: 0.4976 - acc: 0.8271 - val_loss: 0.4816 - val_acc: 0.8320\n",
            "Epoch 12/40\n",
            "48000/48000 [==============================] - 3s 62us/sample - loss: 0.4885 - acc: 0.8290 - val_loss: 0.4722 - val_acc: 0.8341\n",
            "Epoch 13/40\n",
            "48000/48000 [==============================] - 3s 62us/sample - loss: 0.4806 - acc: 0.8322 - val_loss: 0.4649 - val_acc: 0.8361\n",
            "Epoch 14/40\n",
            "48000/48000 [==============================] - 3s 62us/sample - loss: 0.4735 - acc: 0.8353 - val_loss: 0.4592 - val_acc: 0.8375\n",
            "Epoch 15/40\n",
            "48000/48000 [==============================] - 3s 62us/sample - loss: 0.4676 - acc: 0.8362 - val_loss: 0.4533 - val_acc: 0.8407\n",
            "Epoch 16/40\n",
            "48000/48000 [==============================] - 3s 61us/sample - loss: 0.4615 - acc: 0.8376 - val_loss: 0.4482 - val_acc: 0.8413\n",
            "Epoch 17/40\n",
            "48000/48000 [==============================] - 3s 62us/sample - loss: 0.4566 - acc: 0.8400 - val_loss: 0.4434 - val_acc: 0.8448\n",
            "Epoch 18/40\n",
            "48000/48000 [==============================] - 3s 61us/sample - loss: 0.4515 - acc: 0.8413 - val_loss: 0.4404 - val_acc: 0.8426\n",
            "Epoch 19/40\n",
            "48000/48000 [==============================] - 3s 62us/sample - loss: 0.4469 - acc: 0.8435 - val_loss: 0.4357 - val_acc: 0.8466\n",
            "Epoch 20/40\n",
            "48000/48000 [==============================] - 3s 61us/sample - loss: 0.4429 - acc: 0.8444 - val_loss: 0.4318 - val_acc: 0.8460\n",
            "Epoch 21/40\n",
            "48000/48000 [==============================] - 3s 62us/sample - loss: 0.4391 - acc: 0.8461 - val_loss: 0.4284 - val_acc: 0.8497\n",
            "Epoch 22/40\n",
            "48000/48000 [==============================] - 3s 61us/sample - loss: 0.4354 - acc: 0.8466 - val_loss: 0.4255 - val_acc: 0.8497\n",
            "Epoch 23/40\n",
            "48000/48000 [==============================] - 3s 62us/sample - loss: 0.4317 - acc: 0.8482 - val_loss: 0.4227 - val_acc: 0.8484\n",
            "Epoch 24/40\n",
            "48000/48000 [==============================] - 3s 60us/sample - loss: 0.4285 - acc: 0.8491 - val_loss: 0.4201 - val_acc: 0.8521\n",
            "Epoch 25/40\n",
            "48000/48000 [==============================] - 3s 61us/sample - loss: 0.4253 - acc: 0.8509 - val_loss: 0.4198 - val_acc: 0.8524\n",
            "Epoch 26/40\n",
            "48000/48000 [==============================] - 3s 62us/sample - loss: 0.4227 - acc: 0.8503 - val_loss: 0.4170 - val_acc: 0.8522\n",
            "Epoch 27/40\n",
            "48000/48000 [==============================] - 3s 61us/sample - loss: 0.4194 - acc: 0.8516 - val_loss: 0.4129 - val_acc: 0.8534\n",
            "Epoch 28/40\n",
            "48000/48000 [==============================] - 3s 61us/sample - loss: 0.4170 - acc: 0.8522 - val_loss: 0.4102 - val_acc: 0.8572\n",
            "Epoch 29/40\n",
            "48000/48000 [==============================] - 3s 61us/sample - loss: 0.4141 - acc: 0.8543 - val_loss: 0.4078 - val_acc: 0.8548\n",
            "Epoch 30/40\n",
            "48000/48000 [==============================] - 3s 61us/sample - loss: 0.4119 - acc: 0.8545 - val_loss: 0.4053 - val_acc: 0.8575\n",
            "Epoch 31/40\n",
            "48000/48000 [==============================] - 3s 61us/sample - loss: 0.4093 - acc: 0.8555 - val_loss: 0.4030 - val_acc: 0.8579\n",
            "Epoch 32/40\n",
            "48000/48000 [==============================] - 3s 61us/sample - loss: 0.4070 - acc: 0.8566 - val_loss: 0.4021 - val_acc: 0.8578\n",
            "Epoch 33/40\n",
            "48000/48000 [==============================] - 3s 62us/sample - loss: 0.4046 - acc: 0.8570 - val_loss: 0.4006 - val_acc: 0.8578\n",
            "Epoch 34/40\n",
            "48000/48000 [==============================] - 3s 62us/sample - loss: 0.4025 - acc: 0.8577 - val_loss: 0.3984 - val_acc: 0.8583\n",
            "Epoch 35/40\n",
            "48000/48000 [==============================] - 3s 61us/sample - loss: 0.4007 - acc: 0.8588 - val_loss: 0.3957 - val_acc: 0.8592\n",
            "Epoch 36/40\n",
            "48000/48000 [==============================] - 3s 63us/sample - loss: 0.3985 - acc: 0.8587 - val_loss: 0.3956 - val_acc: 0.8602\n",
            "Epoch 37/40\n",
            "48000/48000 [==============================] - 3s 62us/sample - loss: 0.3966 - acc: 0.8594 - val_loss: 0.3930 - val_acc: 0.8591\n",
            "Epoch 38/40\n",
            "48000/48000 [==============================] - 3s 63us/sample - loss: 0.3945 - acc: 0.8613 - val_loss: 0.3922 - val_acc: 0.8627\n",
            "Epoch 39/40\n",
            "48000/48000 [==============================] - 3s 61us/sample - loss: 0.3927 - acc: 0.8618 - val_loss: 0.3907 - val_acc: 0.8600\n",
            "Epoch 40/40\n",
            "48000/48000 [==============================] - 3s 61us/sample - loss: 0.3909 - acc: 0.8616 - val_loss: 0.3911 - val_acc: 0.8634\n"
          ],
          "name": "stdout"
        }
      ]
    },
    {
      "cell_type": "code",
      "metadata": {
        "id": "O-pCfsuI8Oq8",
        "colab_type": "code",
        "colab": {
          "base_uri": "https://localhost:8080/",
          "height": 35
        },
        "outputId": "0f54cc08-d7bf-4690-8beb-ea8be9048b85"
      },
      "source": [
        "print(history.history.keys())"
      ],
      "execution_count": 32,
      "outputs": [
        {
          "output_type": "stream",
          "text": [
            "dict_keys(['loss', 'acc', 'val_loss', 'val_acc'])\n"
          ],
          "name": "stdout"
        }
      ]
    },
    {
      "cell_type": "code",
      "metadata": {
        "id": "uQ_tIHbc8Q6r",
        "colab_type": "code",
        "colab": {
          "base_uri": "https://localhost:8080/",
          "height": 279
        },
        "outputId": "60619cf3-af26-410d-d8ae-7abc70dcc746"
      },
      "source": [
        "plt.plot(history.history['loss'])\n",
        "plt.plot(history.history['val_loss'])\n",
        "plt.ylabel('loss')\n",
        "plt.xlabel('epoch')\n",
        "plt.legend(['train_loss','val_loss'])\n",
        "plt.show()"
      ],
      "execution_count": 33,
      "outputs": [
        {
          "output_type": "display_data",
          "data": {
            "image/png": "[encoded data removed]",
            "text/plain": [
              "<Figure size 432x288 with 1 Axes>"
            ]
          },
          "metadata": {
            "tags": []
          }
        }
      ]
    },
    {
      "cell_type": "code",
      "metadata": {
        "id": "3xQKB3MG8R3z",
        "colab_type": "code",
        "colab": {
          "base_uri": "https://localhost:8080/",
          "height": 279
        },
        "outputId": "44a0220a-db80-4f28-e137-55947e6619d1"
      },
      "source": [
        "plt.plot(history.history['acc'])\n",
        "plt.plot(history.history['val_acc'])\n",
        "plt.ylabel('accuracy')\n",
        "plt.xlabel('epoch')\n",
        "plt.legend(['train_accuracy','val_accuracy'])\n",
        "plt.show()"
      ],
      "execution_count": 36,
      "outputs": [
        {
          "output_type": "display_data",
          "data": {
            "image/png": "[encoded data removed]",
            "text/plain": [
              "<Figure size 432x288 with 1 Axes>"
            ]
          },
          "metadata": {
            "tags": []
          }
        }
      ]
    },
    {
      "cell_type": "code",
      "metadata": {
        "id": "74zroEul8S7H",
        "colab_type": "code",
        "colab": {
          "base_uri": "https://localhost:8080/",
          "height": 54
        },
        "outputId": "6fca0ae1-f1dd-403a-f0b9-68054f8f8a61"
      },
      "source": [
        "loss,accuracy=model.evaluate(x_val,y_val_encoded,verbose=2)\n",
        "print(accuracy)\n",
        "# 성능이 조금 낮은 이유는 이미지 데이터에 맞는 모델이 아니기 때문\n",
        "# 개선방안 -> CNN(8강)"
      ],
      "execution_count": 37,
      "outputs": [
        {
          "output_type": "stream",
          "text": [
            "12000/12000 - 0s - loss: 0.3911 - acc: 0.8634\n",
            "0.8634167\n"
          ],
          "name": "stdout"
        }
      ]
    }
  ]
}